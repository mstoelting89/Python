{
 "cells": [
  {
   "cell_type": "code",
   "execution_count": 1,
   "metadata": {},
   "outputs": [
    {
     "name": "stdout",
     "output_type": "stream",
     "text": [
      "Ich habe 5 Hunde\n"
     ]
    }
   ],
   "source": [
    "n = 5\n",
    "print(\"Ich habe \" + str(n) + \" Hunde\")"
   ]
  },
  {
   "cell_type": "code",
   "execution_count": 3,
   "metadata": {},
   "outputs": [
    {
     "name": "stdout",
     "output_type": "stream",
     "text": [
      "I got 5 dogs\n"
     ]
    }
   ],
   "source": [
    "print(\"I got \" + str(n) + \" dogs\")"
   ]
  },
  {
   "cell_type": "code",
   "execution_count": 4,
   "metadata": {},
   "outputs": [
    {
     "name": "stdout",
     "output_type": "stream",
     "text": [
      "Ich habe 5 Hunde\n"
     ]
    }
   ],
   "source": [
    "translations = {\n",
    "    \"number_of_dogs\": \"Ich habe XXX Hunde\"\n",
    "}\n",
    "\n",
    "print(translations[\"number_of_dogs\"].replace(\"XXX\", str(n)))"
   ]
  },
  {
   "cell_type": "code",
   "execution_count": 5,
   "metadata": {},
   "outputs": [
    {
     "name": "stdout",
     "output_type": "stream",
     "text": [
      "Ich habe 5 Hunde\n"
     ]
    }
   ],
   "source": [
    "translations = {\n",
    "    \"number_of_dogs\": \"Ich habe {0} Hunde\"\n",
    "}\n",
    "\n",
    "print(translations[\"number_of_dogs\"].format(n))"
   ]
  },
  {
   "cell_type": "code",
   "execution_count": 6,
   "metadata": {},
   "outputs": [
    {
     "name": "stdout",
     "output_type": "stream",
     "text": [
      "Ich habe 5 Hunde\n"
     ]
    }
   ],
   "source": [
    "print(\"Ich habe {0} {1}\".format(5, \"Hunde\"))"
   ]
  },
  {
   "cell_type": "code",
   "execution_count": 7,
   "metadata": {},
   "outputs": [
    {
     "name": "stdout",
     "output_type": "stream",
     "text": [
      "Pi hat den Wert: 3.14152\n"
     ]
    }
   ],
   "source": [
    "print(\"Pi hat den Wert: {0}\".format(3.14152))"
   ]
  },
  {
   "cell_type": "code",
   "execution_count": 14,
   "metadata": {},
   "outputs": [
    {
     "name": "stdout",
     "output_type": "stream",
     "text": [
      "Pi hat den Wert: 3.142\n"
     ]
    }
   ],
   "source": [
    "print(\"Pi hat den Wert: {0:.3f}\".format(3.14152))"
   ]
  },
  {
   "cell_type": "code",
   "execution_count": 12,
   "metadata": {},
   "outputs": [
    {
     "name": "stdout",
     "output_type": "stream",
     "text": [
      "Ich habe 5 Hunde\n"
     ]
    }
   ],
   "source": [
    "print(\"Ich habe {number} {animal}\".format(number = 5,animal = \"Hunde\"))"
   ]
  },
  {
   "cell_type": "code",
   "execution_count": null,
   "metadata": {},
   "outputs": [],
   "source": []
  }
 ],
 "metadata": {
  "kernelspec": {
   "display_name": "Python 3",
   "language": "python",
   "name": "python3"
  },
  "language_info": {
   "codemirror_mode": {
    "name": "ipython",
    "version": 3
   },
   "file_extension": ".py",
   "mimetype": "text/x-python",
   "name": "python",
   "nbconvert_exporter": "python",
   "pygments_lexer": "ipython3",
   "version": "3.7.3"
  }
 },
 "nbformat": 4,
 "nbformat_minor": 4
}
