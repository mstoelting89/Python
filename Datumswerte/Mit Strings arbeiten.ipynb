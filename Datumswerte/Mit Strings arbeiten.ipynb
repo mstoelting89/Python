{
 "cells": [
  {
   "cell_type": "code",
   "execution_count": 1,
   "metadata": {},
   "outputs": [
    {
     "name": "stdout",
     "output_type": "stream",
     "text": [
      "Hallo\n"
     ]
    }
   ],
   "source": [
    "print(\"Hallo\")"
   ]
  },
  {
   "cell_type": "code",
   "execution_count": 2,
   "metadata": {},
   "outputs": [
    {
     "name": "stdout",
     "output_type": "stream",
     "text": [
      "HALLO\n"
     ]
    }
   ],
   "source": [
    "print(\"Hallo\".upper())"
   ]
  },
  {
   "cell_type": "code",
   "execution_count": 3,
   "metadata": {},
   "outputs": [
    {
     "name": "stdout",
     "output_type": "stream",
     "text": [
      "hallo\n"
     ]
    }
   ],
   "source": [
    "print(\"Hallo\".lower())"
   ]
  },
  {
   "cell_type": "code",
   "execution_count": 8,
   "metadata": {},
   "outputs": [
    {
     "name": "stdout",
     "output_type": "stream",
     "text": [
      "Ja endet mit ?\n",
      "Ja endet mit ?\n",
      "Ja startet mit I\n"
     ]
    }
   ],
   "source": [
    "sentences = \"Ist das Wetter heute gut?\"\n",
    "if sentences[-1] == \"?\":\n",
    "    print(\"Ja endet mit ?\")\n",
    "    \n",
    "if sentences.endswith(\"?\"):\n",
    "    print(\"Ja endet mit ?\")\n",
    "\n",
    "if sentences.startswith(\"I\"):\n",
    "    print(\"Ja startet mit I\")"
   ]
  },
  {
   "cell_type": "code",
   "execution_count": 9,
   "metadata": {},
   "outputs": [
    {
     "name": "stdout",
     "output_type": "stream",
     "text": [
      "                         Hallo.             \n"
     ]
    }
   ],
   "source": [
    "word = \"                         Hallo.             \"\n",
    "print(word)"
   ]
  },
  {
   "cell_type": "code",
   "execution_count": 11,
   "metadata": {},
   "outputs": [
    {
     "name": "stdout",
     "output_type": "stream",
     "text": [
      "Hallo.\n"
     ]
    }
   ],
   "source": [
    "print(word.strip(\" \"))"
   ]
  },
  {
   "cell_type": "code",
   "execution_count": 18,
   "metadata": {},
   "outputs": [
    {
     "name": "stdout",
     "output_type": "stream",
     "text": [
      "Hall\n"
     ]
    }
   ],
   "source": [
    "print(word.strip(\" .o\"))"
   ]
  },
  {
   "cell_type": "code",
   "execution_count": 19,
   "metadata": {},
   "outputs": [
    {
     "name": "stdout",
     "output_type": "stream",
     "text": [
      "Hallo\n",
      "Hallo.________\n",
      "______Hallo.\n"
     ]
    }
   ],
   "source": [
    "word = \"______Hallo.________\"\n",
    "print(word.strip(\"_.\"))\n",
    "print(word.lstrip(\"_\"))\n",
    "print(word.rstrip(\"_\"))"
   ]
  },
  {
   "cell_type": "code",
   "execution_count": 20,
   "metadata": {},
   "outputs": [
    {
     "name": "stdout",
     "output_type": "stream",
     "text": [
      "Ist das Wetter heute gut\n"
     ]
    }
   ],
   "source": [
    "sentences = \"Ist das Wetter heute gut?\"\n",
    "\n",
    "print(sentences.rstrip(\"!?.\"))"
   ]
  },
  {
   "cell_type": "code",
   "execution_count": 21,
   "metadata": {},
   "outputs": [
    {
     "name": "stdout",
     "output_type": "stream",
     "text": [
      "24\n"
     ]
    }
   ],
   "source": [
    "sentences = \"Ist das Wetter heute gut, und morgen gut????\"\n",
    "\n",
    "print(sentences.find(\",\"))"
   ]
  },
  {
   "cell_type": "code",
   "execution_count": 22,
   "metadata": {},
   "outputs": [
    {
     "name": "stdout",
     "output_type": "stream",
     "text": [
      "Ist das Wetter heute gut; und morgen gut????\n"
     ]
    }
   ],
   "source": [
    "sentences = \"Ist das Wetter heute gut, und morgen gut????\"\n",
    "\n",
    "print(sentences.replace(\",\",\";\"))"
   ]
  },
  {
   "cell_type": "code",
   "execution_count": null,
   "metadata": {},
   "outputs": [],
   "source": []
  }
 ],
 "metadata": {
  "kernelspec": {
   "display_name": "Python 3",
   "language": "python",
   "name": "python3"
  },
  "language_info": {
   "codemirror_mode": {
    "name": "ipython",
    "version": 3
   },
   "file_extension": ".py",
   "mimetype": "text/x-python",
   "name": "python",
   "nbconvert_exporter": "python",
   "pygments_lexer": "ipython3",
   "version": "3.7.3"
  }
 },
 "nbformat": 4,
 "nbformat_minor": 4
}
