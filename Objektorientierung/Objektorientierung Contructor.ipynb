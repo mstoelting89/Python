{
 "cells": [
  {
   "cell_type": "code",
   "execution_count": 9,
   "metadata": {},
   "outputs": [
    {
     "name": "stdout",
     "output_type": "stream",
     "text": [
      "Erik Mustermann (Semester: 2)\n",
      "2\n",
      "Monika Müller (Semester: 1)\n",
      "1\n"
     ]
    },
    {
     "ename": "AttributeError",
     "evalue": "'Student' object has no attribute '__doSomething'",
     "output_type": "error",
     "traceback": [
      "\u001b[1;31m---------------------------------------------------------------------------\u001b[0m",
      "\u001b[1;31mAttributeError\u001b[0m                            Traceback (most recent call last)",
      "\u001b[1;32m<ipython-input-9-7882b045c4ab>\u001b[0m in \u001b[0;36m<module>\u001b[1;34m\u001b[0m\n\u001b[0;32m     31\u001b[0m \u001b[0mprint\u001b[0m\u001b[1;33m(\u001b[0m\u001b[0mmonika\u001b[0m\u001b[1;33m.\u001b[0m\u001b[0mget_term\u001b[0m\u001b[1;33m(\u001b[0m\u001b[1;33m)\u001b[0m\u001b[1;33m)\u001b[0m\u001b[1;33m\u001b[0m\u001b[1;33m\u001b[0m\u001b[0m\n\u001b[0;32m     32\u001b[0m \u001b[1;33m\u001b[0m\u001b[0m\n\u001b[1;32m---> 33\u001b[1;33m \u001b[0mmonika\u001b[0m\u001b[1;33m.\u001b[0m\u001b[0m__doSomething\u001b[0m\u001b[1;33m(\u001b[0m\u001b[1;33m)\u001b[0m\u001b[1;33m\u001b[0m\u001b[1;33m\u001b[0m\u001b[0m\n\u001b[0m",
      "\u001b[1;31mAttributeError\u001b[0m: 'Student' object has no attribute '__doSomething'"
     ]
    }
   ],
   "source": [
    "class Student():\n",
    "    def __init__(self,firstname,lastname):\n",
    "        self.firstname = firstname\n",
    "        self.lastname = lastname\n",
    "        self.__term = 1\n",
    "        \n",
    "    def increase_term(self):\n",
    "        if self.__term >= 9:\n",
    "            return\n",
    "        self.__term = self.__term + 1\n",
    "        \n",
    "    def name(self):\n",
    "        print(self.firstname + \" \" + self.lastname + \" (Semester: \" + str(self.__term) + \")\")\n",
    "    \n",
    "    def get_term(self):\n",
    "        return self.__term\n",
    "    \n",
    "    def __do_somethin(self):\n",
    "        print(\"doSomething\")\n",
    "    \n",
    "erik = Student(\"Erik\", \"Mustermann\")\n",
    "erik.increase_term()\n",
    "erik.name()\n",
    "print(erik.get_term())\n",
    "\n",
    "#variable wird nicht überschrieben, da __\n",
    "erik.__term = 100\n",
    "\n",
    "monika = Student(\"Monika\", \"Müller\")\n",
    "monika.name()\n",
    "print(monika.get_term())\n",
    "\n",
    "#methode kann nicht aufgerufen werden, da __\n",
    "monika.__doSomething()"
   ]
  },
  {
   "cell_type": "markdown",
   "metadata": {},
   "source": [
    "### Daten kapseln"
   ]
  },
  {
   "cell_type": "code",
   "execution_count": 26,
   "metadata": {},
   "outputs": [
    {
     "name": "stdout",
     "output_type": "stream",
     "text": [
      "12345678\n",
      "None\n"
     ]
    }
   ],
   "source": [
    "class PhoneBook():\n",
    "    def __init__(self):\n",
    "        self.__entries = {}\n",
    "        \n",
    "    def add(self, name, phone_number):\n",
    "        self.__entries[name] = phone_number\n",
    "        \n",
    "    def get(self,name):\n",
    "        if name in self.__entries:\n",
    "            return self.__entries[name]\n",
    "        else:\n",
    "            return None\n",
    "        \n",
    "    def __str__(self):\n",
    "        return \"PhoneBook(\" + str(self.__entries) + \")\"\n",
    "    \n",
    "    def __repr__(self):\n",
    "        return \"PhoneBook(\" + str(self.__entries) + \")\"\n",
    "        \n",
    "    def __len__(self):\n",
    "        return len(self.__entries)\n",
    "        \n",
    "book = PhoneBook()\n",
    "book.add(\"Mustermann\", \"12345678\")\n",
    "book.add(\"Müller\", \"1234567\")\n",
    "\n",
    "print(book.get(\"Mustermann\"))\n",
    "print(book.get(\"Hans\"))"
   ]
  },
  {
   "cell_type": "markdown",
   "metadata": {},
   "source": [
    "### besondere Methoden"
   ]
  },
  {
   "cell_type": "code",
   "execution_count": 22,
   "metadata": {},
   "outputs": [
    {
     "name": "stdout",
     "output_type": "stream",
     "text": [
      "PhoneBook({'Mustermann': '12345678', 'Müller': '1234567'})\n"
     ]
    }
   ],
   "source": [
    "## Ausgabe kommt durch def __str__\n",
    "print(book)"
   ]
  },
  {
   "cell_type": "code",
   "execution_count": 25,
   "metadata": {},
   "outputs": [
    {
     "data": {
      "text/plain": [
       "PhoneBook({'Mustermann': '12345678', 'Müller': '1234567'})"
      ]
     },
     "execution_count": 25,
     "metadata": {},
     "output_type": "execute_result"
    }
   ],
   "source": [
    "## Ausgabe durch __repr__\n",
    "book"
   ]
  },
  {
   "cell_type": "code",
   "execution_count": 27,
   "metadata": {},
   "outputs": [
    {
     "name": "stdout",
     "output_type": "stream",
     "text": [
      "2\n"
     ]
    }
   ],
   "source": [
    "print(len(book))"
   ]
  },
  {
   "cell_type": "code",
   "execution_count": null,
   "metadata": {},
   "outputs": [],
   "source": []
  }
 ],
 "metadata": {
  "kernelspec": {
   "display_name": "Python 3",
   "language": "python",
   "name": "python3"
  },
  "language_info": {
   "codemirror_mode": {
    "name": "ipython",
    "version": 3
   },
   "file_extension": ".py",
   "mimetype": "text/x-python",
   "name": "python",
   "nbconvert_exporter": "python",
   "pygments_lexer": "ipython3",
   "version": "3.7.3"
  }
 },
 "nbformat": 4,
 "nbformat_minor": 4
}
