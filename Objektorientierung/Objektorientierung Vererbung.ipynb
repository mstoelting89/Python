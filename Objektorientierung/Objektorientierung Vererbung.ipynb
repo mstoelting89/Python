{
 "cells": [
  {
   "cell_type": "code",
   "execution_count": 2,
   "metadata": {},
   "outputs": [
    {
     "name": "stdout",
     "output_type": "stream",
     "text": [
      "Max Müller (ABC GmbH)\n",
      "Peter Müller\n",
      "Max Müller (ABC GmbH)\n",
      "Peter Müller\n",
      "Frank Dietrich\n",
      "Dieter Braun\n",
      "Stefan Hinkefuss (ABC GmbH)\n",
      "Bryan Smith (ABC GmbH)\n",
      "Jack Bauer (ABC GmbH)\n"
     ]
    }
   ],
   "source": [
    "class Student():\n",
    "    def __init__(self,firstname,lastname):\n",
    "        self.firstname = firstname\n",
    "        self.lastname = lastname\n",
    "        \n",
    "    def name(self):\n",
    "        return self.firstname + \" \" + self.lastname\n",
    "\n",
    "class WorkingStudent(Student):\n",
    "    def __init__(self,firstname,lastname,company):\n",
    "        super().__init__(firstname,lastname)\n",
    "        self.company = company\n",
    "    \n",
    "    ## diese Methode überschreibt die Methode aus der Student Class\n",
    "    def name(self):\n",
    "        return super().name() + \" (\" + self.company + \")\"\n",
    "\n",
    "students = [\n",
    "    WorkingStudent(\"Max\", \"Müller\",\"ABC GmbH\"),\n",
    "    Student(\"Peter\", \"Müller\"),\n",
    "    Student(\"Frank\", \"Dietrich\"),\n",
    "    Student(\"Dieter\", \"Braun\"),\n",
    "    WorkingStudent(\"Stefan\", \"Hinkefuss\",\"ABC GmbH\"),\n",
    "    WorkingStudent(\"Bryan\", \"Smith\",\"ABC GmbH\"),\n",
    "    WorkingStudent(\"Jack\", \"Bauer\",\"ABC GmbH\")\n",
    "]\n",
    "\n",
    "student = WorkingStudent(\"Max\", \"Müller\",\"ABC GmbH\")\n",
    "print(student.name())\n",
    "student2 = Student(\"Peter\", \"Müller\")\n",
    "print(student2.name())\n",
    "\n",
    "for student in students:\n",
    "    print(student.name())\n",
    "    "
   ]
  },
  {
   "cell_type": "markdown",
   "metadata": {},
   "source": [
    "## Aufgabe"
   ]
  },
  {
   "cell_type": "code",
   "execution_count": 46,
   "metadata": {},
   "outputs": [],
   "source": [
    "class FileReader():\n",
    "    def __init__(self,url):\n",
    "        self.url = url\n",
    "    \n",
    "    def lines(self):\n",
    "        with open(self.url, \"r\") as file:\n",
    "            lines = []\n",
    "            for line in file:\n",
    "                lines.append(line.strip())\n",
    "            return lines\n",
    "                \n",
    "class CsvReader(FileReader):\n",
    "    def __init__(self,url):\n",
    "        super().__init__(url)\n",
    "        \n",
    "    def lines(self):\n",
    "        lines = super().lines()\n",
    "        \n",
    "        return [line.split(\",\") for line in lines]\n",
    "                "
   ]
  },
  {
   "cell_type": "code",
   "execution_count": 47,
   "metadata": {},
   "outputs": [
    {
     "name": "stdout",
     "output_type": "stream",
     "text": [
      "['Muenchen;1800000;MUC', 'Berlin;3000000;BER', 'Budapest;2000000;BUD']\n"
     ]
    }
   ],
   "source": [
    "f = FileReader(\"datei.csv\")\n",
    "print(f.lines())"
   ]
  },
  {
   "cell_type": "code",
   "execution_count": 48,
   "metadata": {},
   "outputs": [
    {
     "name": "stdout",
     "output_type": "stream",
     "text": [
      "[['Muenchen;1800000;MUC'], ['Berlin;3000000;BER'], ['Budapest;2000000;BUD']]\n"
     ]
    }
   ],
   "source": [
    "f = CsvReader(\"datei.csv\")\n",
    "print(f.lines())"
   ]
  },
  {
   "cell_type": "code",
   "execution_count": 3,
   "metadata": {},
   "outputs": [],
   "source": [
    "w_student = WorkingStudent(\"Max\", \"Müller\", \"DEF GmbH\")\n",
    "student = Student(\"Monika\", \"Mustermann\")"
   ]
  },
  {
   "cell_type": "code",
   "execution_count": 4,
   "metadata": {},
   "outputs": [
    {
     "name": "stdout",
     "output_type": "stream",
     "text": [
      "<class '__main__.WorkingStudent'>\n",
      "<class '__main__.Student'>\n"
     ]
    }
   ],
   "source": [
    "print(type(w_student))\n",
    "print(type(student))"
   ]
  },
  {
   "cell_type": "code",
   "execution_count": 7,
   "metadata": {},
   "outputs": [
    {
     "name": "stdout",
     "output_type": "stream",
     "text": [
      "True\n",
      "True\n",
      "False\n"
     ]
    }
   ],
   "source": [
    "print(isinstance(w_student, WorkingStudent))\n",
    "print(isinstance(w_student, Student))\n",
    "print(isinstance(student,WorkingStudent))"
   ]
  },
  {
   "cell_type": "code",
   "execution_count": null,
   "metadata": {},
   "outputs": [],
   "source": []
  }
 ],
 "metadata": {
  "kernelspec": {
   "display_name": "Python 3",
   "language": "python",
   "name": "python3"
  },
  "language_info": {
   "codemirror_mode": {
    "name": "ipython",
    "version": 3
   },
   "file_extension": ".py",
   "mimetype": "text/x-python",
   "name": "python",
   "nbconvert_exporter": "python",
   "pygments_lexer": "ipython3",
   "version": "3.7.4"
  }
 },
 "nbformat": 4,
 "nbformat_minor": 4
}
