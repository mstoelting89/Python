{
 "cells": [
  {
   "cell_type": "code",
   "execution_count": 2,
   "metadata": {},
   "outputs": [
    {
     "name": "stdout",
     "output_type": "stream",
     "text": [
      "Hallo\n",
      "Hallo\n",
      "Hallo\n"
     ]
    }
   ],
   "source": [
    "def multi_print(number, word):\n",
    "    for i in range(0,number):\n",
    "        print(word)\n",
    "        \n",
    "multi_print(3,\"Hallo\")"
   ]
  },
  {
   "cell_type": "code",
   "execution_count": 3,
   "metadata": {},
   "outputs": [
    {
     "name": "stdout",
     "output_type": "stream",
     "text": [
      "Hallo\n",
      "Hallo\n",
      "Hallo\n"
     ]
    }
   ],
   "source": [
    "def multi_print(number = 3, word = \"Hallo\"):\n",
    "    for i in range(0,number):\n",
    "        print(word)\n",
    "        \n",
    "multi_print()"
   ]
  },
  {
   "cell_type": "code",
   "execution_count": 4,
   "metadata": {},
   "outputs": [
    {
     "name": "stdout",
     "output_type": "stream",
     "text": [
      "Hallo\n",
      "Hallo\n",
      "Hallo\n",
      "Hallo\n",
      "Hallo\n"
     ]
    }
   ],
   "source": [
    "multi_print(5)"
   ]
  },
  {
   "cell_type": "code",
   "execution_count": 6,
   "metadata": {},
   "outputs": [
    {
     "name": "stdout",
     "output_type": "stream",
     "text": [
      "Welt\n",
      "Welt\n",
      "Welt\n"
     ]
    }
   ],
   "source": [
    "multi_print(word = \"Welt\")"
   ]
  },
  {
   "cell_type": "code",
   "execution_count": 7,
   "metadata": {},
   "outputs": [
    {
     "name": "stdout",
     "output_type": "stream",
     "text": [
      "Welt\n",
      "Welt\n",
      "Welt\n",
      "Welt\n",
      "Welt\n",
      "Welt\n",
      "Welt\n",
      "Welt\n",
      "Welt\n",
      "Welt\n"
     ]
    }
   ],
   "source": [
    "multi_print(word= \"Welt\", number = 10)"
   ]
  },
  {
   "cell_type": "code",
   "execution_count": 9,
   "metadata": {},
   "outputs": [
    {
     "name": "stdout",
     "output_type": "stream",
     "text": [
      "5\n"
     ]
    }
   ],
   "source": [
    "a = 5\n",
    "def f(x):\n",
    "    print(x)\n",
    "f(a)"
   ]
  },
  {
   "cell_type": "code",
   "execution_count": 12,
   "metadata": {},
   "outputs": [
    {
     "name": "stdout",
     "output_type": "stream",
     "text": [
      "3\n",
      "5\n"
     ]
    }
   ],
   "source": [
    "a = 5\n",
    "def f(x):\n",
    "    x = 3\n",
    "    print(x)\n",
    "\n",
    "f(a)\n",
    "print(a)"
   ]
  },
  {
   "cell_type": "code",
   "execution_count": 13,
   "metadata": {},
   "outputs": [
    {
     "name": "stdout",
     "output_type": "stream",
     "text": [
      "['Hallo', 'Welt', '!!!']\n",
      "['Hallo', 'Welt', '!!!']\n"
     ]
    }
   ],
   "source": [
    "l = [\"Hallo\", \"Welt\"]\n",
    "\n",
    "def f(x):\n",
    "    x.append(\"!!!\")\n",
    "    print(x)\n",
    "\n",
    "f(l)\n",
    "print(l)"
   ]
  },
  {
   "cell_type": "code",
   "execution_count": 14,
   "metadata": {},
   "outputs": [
    {
     "name": "stdout",
     "output_type": "stream",
     "text": [
      "['Hallo', 'Welt', '!!!']\n",
      "['Hallo', 'Welt']\n"
     ]
    }
   ],
   "source": [
    "l = [\"Hallo\", \"Welt\"]\n",
    "\n",
    "def f(x):\n",
    "    x = [\"Hallo\", \"Welt\", \"!!!\"]\n",
    "    print(x)\n",
    "\n",
    "f(l)\n",
    "print(l)"
   ]
  },
  {
   "cell_type": "code",
   "execution_count": null,
   "metadata": {},
   "outputs": [],
   "source": []
  }
 ],
 "metadata": {
  "kernelspec": {
   "display_name": "Python 3",
   "language": "python",
   "name": "python3"
  },
  "language_info": {
   "codemirror_mode": {
    "name": "ipython",
    "version": 3
   },
   "file_extension": ".py",
   "mimetype": "text/x-python",
   "name": "python",
   "nbconvert_exporter": "python",
   "pygments_lexer": "ipython3",
   "version": "3.7.3"
  }
 },
 "nbformat": 4,
 "nbformat_minor": 4
}
