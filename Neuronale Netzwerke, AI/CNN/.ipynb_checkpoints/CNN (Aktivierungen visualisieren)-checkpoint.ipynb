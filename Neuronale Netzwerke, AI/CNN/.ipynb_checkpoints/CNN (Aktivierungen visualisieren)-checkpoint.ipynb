{
 "cells": [
  {
   "cell_type": "code",
   "execution_count": 1,
   "metadata": {},
   "outputs": [
    {
     "name": "stderr",
     "output_type": "stream",
     "text": [
      "Using TensorFlow backend.\n",
      "C:\\Anaconda3\\lib\\site-packages\\tensorflow\\python\\framework\\dtypes.py:526: FutureWarning: Passing (type, 1) or '1type' as a synonym of type is deprecated; in a future version of numpy, it will be understood as (type, (1,)) / '(1,)type'.\n",
      "  _np_qint8 = np.dtype([(\"qint8\", np.int8, 1)])\n",
      "C:\\Anaconda3\\lib\\site-packages\\tensorflow\\python\\framework\\dtypes.py:527: FutureWarning: Passing (type, 1) or '1type' as a synonym of type is deprecated; in a future version of numpy, it will be understood as (type, (1,)) / '(1,)type'.\n",
      "  _np_quint8 = np.dtype([(\"quint8\", np.uint8, 1)])\n",
      "C:\\Anaconda3\\lib\\site-packages\\tensorflow\\python\\framework\\dtypes.py:528: FutureWarning: Passing (type, 1) or '1type' as a synonym of type is deprecated; in a future version of numpy, it will be understood as (type, (1,)) / '(1,)type'.\n",
      "  _np_qint16 = np.dtype([(\"qint16\", np.int16, 1)])\n",
      "C:\\Anaconda3\\lib\\site-packages\\tensorflow\\python\\framework\\dtypes.py:529: FutureWarning: Passing (type, 1) or '1type' as a synonym of type is deprecated; in a future version of numpy, it will be understood as (type, (1,)) / '(1,)type'.\n",
      "  _np_quint16 = np.dtype([(\"quint16\", np.uint16, 1)])\n",
      "C:\\Anaconda3\\lib\\site-packages\\tensorflow\\python\\framework\\dtypes.py:530: FutureWarning: Passing (type, 1) or '1type' as a synonym of type is deprecated; in a future version of numpy, it will be understood as (type, (1,)) / '(1,)type'.\n",
      "  _np_qint32 = np.dtype([(\"qint32\", np.int32, 1)])\n",
      "C:\\Anaconda3\\lib\\site-packages\\tensorflow\\python\\framework\\dtypes.py:535: FutureWarning: Passing (type, 1) or '1type' as a synonym of type is deprecated; in a future version of numpy, it will be understood as (type, (1,)) / '(1,)type'.\n",
      "  np_resource = np.dtype([(\"resource\", np.ubyte, 1)])\n"
     ]
    }
   ],
   "source": [
    "import gzip\n",
    "import numpy as np\n",
    "from keras.utils import to_categorical\n",
    "\n",
    "#Funktion zum Laden der einzelnen Bilder\n",
    "def open_images(filename):\n",
    "    #öffnen der gzip-Datein\n",
    "    with gzip.open(filename, \"rb\") as file:\n",
    "        #Laden aller daten\n",
    "        data = file.read()\n",
    "        #Schreiben der Daten in ein Numpy Array und Rückgabe des Arrays\n",
    "        return np.frombuffer(data, dtype=np.uint8, offset=16)\\\n",
    "            .reshape(-1,28,28)\\\n",
    "            .astype(np.float32)\n",
    "    \n",
    "def open_labels(filename):\n",
    "    with gzip.open(filename,\"rb\") as file:\n",
    "        data = file.read()\n",
    "        return np.frombuffer(data,dtype=np.uint8,offset=8)\n",
    "\n",
    "#erstellen der Daten arrays\n",
    "X_train = open_images(\"../Kursmaterialien/data/fashion/train-images-idx3-ubyte.gz\")\n",
    "y_train = open_labels(\"../Kursmaterialien/data/fashion/train-labels-idx1-ubyte.gz\")\n",
    "\n",
    "X_test = open_images(\"../Kursmaterialien/data/fashion/t10k-images-idx3-ubyte.gz\")\n",
    "y_test = open_labels(\"../Kursmaterialien/data/fashion/t10k-labels-idx1-ubyte.gz\")\n",
    "\n",
    "y_train = to_categorical(y_train)\n",
    "y_test = to_categorical(y_test)\n"
   ]
  },
  {
   "cell_type": "code",
   "execution_count": 27,
   "metadata": {
    "scrolled": true
   },
   "outputs": [
    {
     "name": "stdout",
     "output_type": "stream",
     "text": [
      "Epoch 1/80\n",
      "60000/60000 [==============================] - 18s 293us/step - loss: 11.5931 - accuracy: 0.2790\n",
      "Epoch 2/80\n",
      "60000/60000 [==============================] - 17s 289us/step - loss: 11.3630 - accuracy: 0.2934\n",
      "Epoch 3/80\n",
      "60000/60000 [==============================] - 17s 288us/step - loss: 8.9748 - accuracy: 0.4381\n",
      "Epoch 4/80\n",
      "60000/60000 [==============================] - 17s 287us/step - loss: 8.2740 - accuracy: 0.4798\n",
      "Epoch 5/80\n",
      "60000/60000 [==============================] - 18s 293us/step - loss: 6.0096 - accuracy: 0.6073\n",
      "Epoch 6/80\n",
      "60000/60000 [==============================] - 18s 293us/step - loss: 4.6850 - accuracy: 0.6537\n",
      "Epoch 7/80\n",
      "60000/60000 [==============================] - 18s 296us/step - loss: 0.3997 - accuracy: 0.8729\n",
      "Epoch 8/80\n",
      "60000/60000 [==============================] - 18s 294us/step - loss: 0.2823 - accuracy: 0.9020\n",
      "Epoch 9/80\n",
      "60000/60000 [==============================] - 18s 299us/step - loss: 0.2216 - accuracy: 0.9209\n",
      "Epoch 10/80\n",
      "60000/60000 [==============================] - 18s 297us/step - loss: 0.1860 - accuracy: 0.9329\n",
      "Epoch 11/80\n",
      "60000/60000 [==============================] - 18s 293us/step - loss: 0.1632 - accuracy: 0.9403\n",
      "Epoch 12/80\n",
      "60000/60000 [==============================] - 18s 292us/step - loss: 0.1435 - accuracy: 0.9486\n",
      "Epoch 13/80\n",
      "60000/60000 [==============================] - 18s 295us/step - loss: 0.1285 - accuracy: 0.9537\n",
      "Epoch 14/80\n",
      "60000/60000 [==============================] - 18s 294us/step - loss: 0.1153 - accuracy: 0.9585\n",
      "Epoch 15/80\n",
      "60000/60000 [==============================] - 18s 295us/step - loss: 0.1054 - accuracy: 0.9615\n",
      "Epoch 16/80\n",
      "60000/60000 [==============================] - 18s 298us/step - loss: 0.0951 - accuracy: 0.9651\n",
      "Epoch 17/80\n",
      "60000/60000 [==============================] - 18s 304us/step - loss: 0.0885 - accuracy: 0.9686\n",
      "Epoch 18/80\n",
      "60000/60000 [==============================] - 18s 296us/step - loss: 0.0809 - accuracy: 0.9712\n",
      "Epoch 19/80\n",
      "60000/60000 [==============================] - 18s 299us/step - loss: 0.0762 - accuracy: 0.9726\n",
      "Epoch 20/80\n",
      "60000/60000 [==============================] - 18s 296us/step - loss: 0.0710 - accuracy: 0.9749\n",
      "Epoch 21/80\n",
      "60000/60000 [==============================] - 18s 293us/step - loss: 0.0659 - accuracy: 0.9773\n",
      "Epoch 22/80\n",
      "60000/60000 [==============================] - 18s 293us/step - loss: 0.0619 - accuracy: 0.9785\n",
      "Epoch 23/80\n",
      "60000/60000 [==============================] - 18s 298us/step - loss: 0.0584 - accuracy: 0.9799\n",
      "Epoch 24/80\n",
      "60000/60000 [==============================] - 18s 296us/step - loss: 0.0533 - accuracy: 0.9814\n",
      "Epoch 25/80\n",
      "60000/60000 [==============================] - 18s 295us/step - loss: 0.0491 - accuracy: 0.9834\n",
      "Epoch 26/80\n",
      "60000/60000 [==============================] - 18s 302us/step - loss: 0.0484 - accuracy: 0.9835\n",
      "Epoch 27/80\n",
      "60000/60000 [==============================] - 18s 298us/step - loss: 0.0449 - accuracy: 0.9848\n",
      "Epoch 28/80\n",
      "60000/60000 [==============================] - 18s 298us/step - loss: 0.0434 - accuracy: 0.9847\n",
      "Epoch 29/80\n",
      "60000/60000 [==============================] - 18s 292us/step - loss: 0.0413 - accuracy: 0.9862\n",
      "Epoch 30/80\n",
      "60000/60000 [==============================] - 17s 291us/step - loss: 0.0381 - accuracy: 0.9873\n",
      "Epoch 31/80\n",
      "60000/60000 [==============================] - 18s 298us/step - loss: 0.0366 - accuracy: 0.9881\n",
      "Epoch 32/80\n",
      "60000/60000 [==============================] - 18s 297us/step - loss: 0.0357 - accuracy: 0.9882\n",
      "Epoch 33/80\n",
      "60000/60000 [==============================] - 18s 298us/step - loss: 0.0341 - accuracy: 0.9890\n",
      "Epoch 34/80\n",
      "60000/60000 [==============================] - 18s 295us/step - loss: 0.0386 - accuracy: 0.9882\n",
      "Epoch 35/80\n",
      "60000/60000 [==============================] - 18s 298us/step - loss: 0.0314 - accuracy: 0.9900\n",
      "Epoch 36/80\n",
      "60000/60000 [==============================] - 18s 306us/step - loss: 0.0325 - accuracy: 0.9908\n",
      "Epoch 37/80\n",
      "60000/60000 [==============================] - 18s 304us/step - loss: 0.0316 - accuracy: 0.9896\n",
      "Epoch 38/80\n",
      "60000/60000 [==============================] - 18s 295us/step - loss: 0.0255 - accuracy: 0.9924\n",
      "Epoch 39/80\n",
      "60000/60000 [==============================] - 18s 297us/step - loss: 0.0263 - accuracy: 0.9917\n",
      "Epoch 40/80\n",
      "60000/60000 [==============================] - 18s 297us/step - loss: 0.0240 - accuracy: 0.9931\n",
      "Epoch 41/80\n",
      "60000/60000 [==============================] - 18s 295us/step - loss: 0.0283 - accuracy: 0.9920\n",
      "Epoch 42/80\n",
      "60000/60000 [==============================] - 18s 294us/step - loss: 0.0236 - accuracy: 0.9930\n",
      "Epoch 43/80\n",
      "60000/60000 [==============================] - 18s 296us/step - loss: 0.0246 - accuracy: 0.9925\n",
      "Epoch 44/80\n",
      "60000/60000 [==============================] - 18s 297us/step - loss: 0.0210 - accuracy: 0.9937\n",
      "Epoch 45/80\n",
      "60000/60000 [==============================] - 18s 300us/step - loss: 0.0233 - accuracy: 0.9935\n",
      "Epoch 46/80\n",
      "60000/60000 [==============================] - 18s 299us/step - loss: 0.0202 - accuracy: 0.9937\n",
      "Epoch 47/80\n",
      "60000/60000 [==============================] - 18s 296us/step - loss: 0.0198 - accuracy: 0.9941\n",
      "Epoch 48/80\n",
      "60000/60000 [==============================] - 18s 300us/step - loss: 0.0213 - accuracy: 0.9944\n",
      "Epoch 49/80\n",
      "60000/60000 [==============================] - 18s 299us/step - loss: 0.0168 - accuracy: 0.9950\n",
      "Epoch 50/80\n",
      "60000/60000 [==============================] - 18s 294us/step - loss: 0.0199 - accuracy: 0.9941\n",
      "Epoch 51/80\n",
      "60000/60000 [==============================] - 18s 297us/step - loss: 0.0177 - accuracy: 0.9949\n",
      "Epoch 52/80\n",
      "60000/60000 [==============================] - 18s 293us/step - loss: 0.0176 - accuracy: 0.9951\n",
      "Epoch 53/80\n",
      "60000/60000 [==============================] - 18s 294us/step - loss: 0.0172 - accuracy: 0.9950\n",
      "Epoch 54/80\n",
      "60000/60000 [==============================] - 18s 295us/step - loss: 0.0152 - accuracy: 0.9959\n",
      "Epoch 55/80\n",
      "60000/60000 [==============================] - 18s 292us/step - loss: 0.0157 - accuracy: 0.9958\n",
      "Epoch 56/80\n",
      "60000/60000 [==============================] - 18s 294us/step - loss: 0.0188 - accuracy: 0.9946\n",
      "Epoch 57/80\n",
      "60000/60000 [==============================] - 18s 298us/step - loss: 0.0139 - accuracy: 0.9962\n",
      "Epoch 58/80\n",
      "60000/60000 [==============================] - 18s 297us/step - loss: 0.0127 - accuracy: 0.9967\n",
      "Epoch 59/80\n",
      "60000/60000 [==============================] - 18s 297us/step - loss: 0.0149 - accuracy: 0.9960\n",
      "Epoch 60/80\n",
      "60000/60000 [==============================] - 18s 298us/step - loss: 0.0139 - accuracy: 0.9964\n",
      "Epoch 61/80\n",
      "60000/60000 [==============================] - 18s 295us/step - loss: 0.0154 - accuracy: 0.9963\n",
      "Epoch 62/80\n",
      "60000/60000 [==============================] - 18s 296us/step - loss: 0.0149 - accuracy: 0.9964\n",
      "Epoch 63/80\n",
      "60000/60000 [==============================] - 18s 297us/step - loss: 0.0118 - accuracy: 0.9969\n",
      "Epoch 64/80\n",
      "60000/60000 [==============================] - 18s 299us/step - loss: 0.0111 - accuracy: 0.9973\n",
      "Epoch 65/80\n",
      "60000/60000 [==============================] - 18s 295us/step - loss: 0.0155 - accuracy: 0.9957\n",
      "Epoch 66/80\n",
      "60000/60000 [==============================] - 18s 294us/step - loss: 0.0095 - accuracy: 0.9979\n",
      "Epoch 67/80\n",
      "60000/60000 [==============================] - 18s 302us/step - loss: 0.0133 - accuracy: 0.9968\n",
      "Epoch 68/80\n",
      "60000/60000 [==============================] - 18s 298us/step - loss: 0.0122 - accuracy: 0.9967\n",
      "Epoch 69/80\n",
      "60000/60000 [==============================] - 18s 294us/step - loss: 0.0136 - accuracy: 0.9967\n",
      "Epoch 70/80\n",
      "60000/60000 [==============================] - 18s 294us/step - loss: 0.0100 - accuracy: 0.9977\n",
      "Epoch 71/80\n",
      "60000/60000 [==============================] - 18s 293us/step - loss: 0.0115 - accuracy: 0.9968\n",
      "Epoch 72/80\n",
      "60000/60000 [==============================] - 18s 293us/step - loss: 0.0108 - accuracy: 0.9973\n",
      "Epoch 73/80\n",
      "60000/60000 [==============================] - 18s 298us/step - loss: 0.0104 - accuracy: 0.9975\n",
      "Epoch 74/80\n",
      "60000/60000 [==============================] - 18s 296us/step - loss: 0.0084 - accuracy: 0.9983\n",
      "Epoch 75/80\n",
      "60000/60000 [==============================] - 18s 297us/step - loss: 0.0115 - accuracy: 0.9970\n",
      "Epoch 76/80\n"
     ]
    },
    {
     "name": "stdout",
     "output_type": "stream",
     "text": [
      "60000/60000 [==============================] - 18s 294us/step - loss: 0.0104 - accuracy: 0.9975\n",
      "Epoch 77/80\n",
      "60000/60000 [==============================] - 18s 294us/step - loss: 0.0126 - accuracy: 0.9969\n",
      "Epoch 78/80\n",
      "60000/60000 [==============================] - 17s 289us/step - loss: 0.0129 - accuracy: 0.9972\n",
      "Epoch 79/80\n",
      "60000/60000 [==============================] - 18s 301us/step - loss: 0.0086 - accuracy: 0.9983\n",
      "Epoch 80/80\n",
      "60000/60000 [==============================] - 18s 304us/step - loss: 0.0083 - accuracy: 0.9980\n"
     ]
    },
    {
     "data": {
      "text/plain": [
       "<keras.callbacks.callbacks.History at 0x1fb30f95b48>"
      ]
     },
     "execution_count": 27,
     "metadata": {},
     "output_type": "execute_result"
    }
   ],
   "source": [
    "from keras.models import Sequential\n",
    "#Import von Convolutional Layer (in 2 Dimensional - oben und unten - Bilder sind Zweidimensional)\n",
    "#Flatten Layer dient dazu die übereinanderliegenden Conv2D Layer nebeneinander zu legen, um dann diese dem Dense Layer zu \n",
    "#übermitteln\n",
    "from keras.layers import Dense, Conv2D, Flatten\n",
    "\n",
    "model = Sequential()\n",
    "\n",
    "#Hinzufuegen eines Layers mit Dense\n",
    "#100 = Anzahl der Neuronen (frei gewaehlt)\n",
    "#784 = Anzahl der Pixel pro Bild\n",
    "#Verschiedene Werte werden ausprobiert um eine höhere Genauigkeit zu erhalten\n",
    "#meist ist es sigmoid und relu\n",
    "\n",
    "###Kommentare zu CNN###\n",
    "#Parameter von Conv2D:\n",
    "#Anzahl der Filter (Start mit 10)\n",
    "#kernel_size = größe der Filter (der Matrize)\n",
    "\n",
    "model.add(Conv2D(30, kernel_size=(3,3), activation=\"relu\", input_shape=(28,28,1))) # Hidden - Layer\n",
    "model.add(Flatten()) #legt alle entstandenen Ebenen nebeneinander\n",
    "model.add(Dense(10,activation=\"softmax\")) # Output - Layer - Die 10 repräsentiert die Anzahl der Ausgänge\n",
    "\n",
    "#1. Parameter = Optimierung der Gewichtung über SGD (Stochastic Gradient Decent - Gradientenabstiegsverfahren)\n",
    "# andere: rmsprop, adam - ausprobieren welche besser sind\n",
    "#2. Parameter = Standardwert\n",
    "model.compile(optimizer=\"rmsprop\", loss=\"categorical_crossentropy\", metrics=[\"accuracy\"])\n",
    "\n",
    "#so lange trainieren, bis sich das loss nicht viel ändert\n",
    "#ziel ist das loss zu minimieren\n",
    "\n",
    "model.fit(\n",
    "    X_train.reshape(60000,28,28,1),\n",
    "    y_train,\n",
    "    epochs=80, #Anzahl wie häufig die Epochen durchlaufen werden sollen\n",
    "    batch_size=1000 #Nach 1000 Bildern werden die Gewichte aktualisiert\n",
    ")\n",
    "\n",
    "###Ergebnisse:\n",
    "#optimizer bisher rmsprop deutlich am besten\n",
    "#batch_size nicht großartig relevant - Unterschied 100 zu 1000 ca. 1%"
   ]
  },
  {
   "cell_type": "code",
   "execution_count": 3,
   "metadata": {},
   "outputs": [],
   "source": [
    "Conv2D?"
   ]
  },
  {
   "cell_type": "markdown",
   "metadata": {},
   "source": [
    "## Es gilt: Das Netz passt sich an die Daten an\n",
    "\n",
    "Testgenauigkeit nur minimal schlechter als Trainigsgenauigkeit = Das Modell darf etwas komplexer sein\n",
    "Testgenauigkeit viel schlechter als Trainingsgenauigkeit = Das Modell ist zu komplex (hat sich zu sehr an Training angepasst)\n",
    "Beides schleck = Man braucht mehr Daten"
   ]
  },
  {
   "cell_type": "code",
   "execution_count": 25,
   "metadata": {},
   "outputs": [
    {
     "name": "stdout",
     "output_type": "stream",
     "text": [
      "60000/60000 [==============================] - 5s 76us/step\n"
     ]
    },
    {
     "data": {
      "text/plain": [
       "[0.28795349276860555, 0.9003333449363708]"
      ]
     },
     "execution_count": 25,
     "metadata": {},
     "output_type": "execute_result"
    }
   ],
   "source": [
    "# testdaten Genauigkeit vorhersagen\n",
    "\n",
    "model.evaluate(X_train.reshape(-1,28,28,1),y_train)"
   ]
  },
  {
   "cell_type": "code",
   "execution_count": 26,
   "metadata": {},
   "outputs": [
    {
     "name": "stdout",
     "output_type": "stream",
     "text": [
      "10000/10000 [==============================] - 1s 77us/step\n"
     ]
    },
    {
     "data": {
      "text/plain": [
       "[0.41013165278434754, 0.8654000163078308]"
      ]
     },
     "execution_count": 26,
     "metadata": {},
     "output_type": "execute_result"
    }
   ],
   "source": [
    "model.evaluate(X_test.reshape(-1,28,28,1),y_test)"
   ]
  },
  {
   "cell_type": "code",
   "execution_count": 11,
   "metadata": {},
   "outputs": [
    {
     "data": {
      "text/plain": [
       "1.0"
      ]
     },
     "execution_count": 11,
     "metadata": {},
     "output_type": "execute_result"
    }
   ],
   "source": [
    "np.sum(predictions[0])"
   ]
  },
  {
   "cell_type": "code",
   "execution_count": null,
   "metadata": {},
   "outputs": [],
   "source": []
  }
 ],
 "metadata": {
  "kernelspec": {
   "display_name": "Python 3",
   "language": "python",
   "name": "python3"
  },
  "language_info": {
   "codemirror_mode": {
    "name": "ipython",
    "version": 3
   },
   "file_extension": ".py",
   "mimetype": "text/x-python",
   "name": "python",
   "nbconvert_exporter": "python",
   "pygments_lexer": "ipython3",
   "version": "3.7.6"
  }
 },
 "nbformat": 4,
 "nbformat_minor": 4
}
