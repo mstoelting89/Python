{
 "cells": [
  {
   "cell_type": "code",
   "execution_count": 1,
   "metadata": {},
   "outputs": [
    {
     "name": "stderr",
     "output_type": "stream",
     "text": [
      "Using TensorFlow backend.\n",
      "C:\\Anaconda3\\lib\\site-packages\\tensorflow\\python\\framework\\dtypes.py:526: FutureWarning: Passing (type, 1) or '1type' as a synonym of type is deprecated; in a future version of numpy, it will be understood as (type, (1,)) / '(1,)type'.\n",
      "  _np_qint8 = np.dtype([(\"qint8\", np.int8, 1)])\n",
      "C:\\Anaconda3\\lib\\site-packages\\tensorflow\\python\\framework\\dtypes.py:527: FutureWarning: Passing (type, 1) or '1type' as a synonym of type is deprecated; in a future version of numpy, it will be understood as (type, (1,)) / '(1,)type'.\n",
      "  _np_quint8 = np.dtype([(\"quint8\", np.uint8, 1)])\n",
      "C:\\Anaconda3\\lib\\site-packages\\tensorflow\\python\\framework\\dtypes.py:528: FutureWarning: Passing (type, 1) or '1type' as a synonym of type is deprecated; in a future version of numpy, it will be understood as (type, (1,)) / '(1,)type'.\n",
      "  _np_qint16 = np.dtype([(\"qint16\", np.int16, 1)])\n",
      "C:\\Anaconda3\\lib\\site-packages\\tensorflow\\python\\framework\\dtypes.py:529: FutureWarning: Passing (type, 1) or '1type' as a synonym of type is deprecated; in a future version of numpy, it will be understood as (type, (1,)) / '(1,)type'.\n",
      "  _np_quint16 = np.dtype([(\"quint16\", np.uint16, 1)])\n",
      "C:\\Anaconda3\\lib\\site-packages\\tensorflow\\python\\framework\\dtypes.py:530: FutureWarning: Passing (type, 1) or '1type' as a synonym of type is deprecated; in a future version of numpy, it will be understood as (type, (1,)) / '(1,)type'.\n",
      "  _np_qint32 = np.dtype([(\"qint32\", np.int32, 1)])\n",
      "C:\\Anaconda3\\lib\\site-packages\\tensorflow\\python\\framework\\dtypes.py:535: FutureWarning: Passing (type, 1) or '1type' as a synonym of type is deprecated; in a future version of numpy, it will be understood as (type, (1,)) / '(1,)type'.\n",
      "  np_resource = np.dtype([(\"resource\", np.ubyte, 1)])\n"
     ]
    }
   ],
   "source": [
    "import gzip\n",
    "import numpy as np\n",
    "from keras.utils import to_categorical\n",
    "\n",
    "#Funktion zum Laden der einzelnen Bilder\n",
    "def open_images(filename):\n",
    "    #öffnen der gzip-Datein\n",
    "    with gzip.open(filename, \"rb\") as file:\n",
    "        #Laden aller daten\n",
    "        data = file.read()\n",
    "        #Schreiben der Daten in ein Numpy Array und Rückgabe des Arrays\n",
    "        return np.frombuffer(data, dtype=np.uint8, offset=16)\\\n",
    "            .reshape(-1,28,28)\\\n",
    "            .astype(np.float32)\n",
    "    \n",
    "def open_labels(filename):\n",
    "    with gzip.open(filename,\"rb\") as file:\n",
    "        data = file.read()\n",
    "        return np.frombuffer(data,dtype=np.uint8,offset=8)\n",
    "\n",
    "#erstellen der Daten arrays\n",
    "X_train = open_images(\"../Kursmaterialien/data/fashion/train-images-idx3-ubyte.gz\")\n",
    "y_train = open_labels(\"../Kursmaterialien/data/fashion/train-labels-idx1-ubyte.gz\")\n",
    "\n",
    "X_test = open_images(\"../Kursmaterialien/data/fashion/t10k-images-idx3-ubyte.gz\")\n",
    "y_test = open_labels(\"../Kursmaterialien/data/fashion/t10k-labels-idx1-ubyte.gz\")\n",
    "\n",
    "y_train = to_categorical(y_train)\n",
    "y_test = to_categorical(y_test)\n"
   ]
  },
  {
   "cell_type": "code",
   "execution_count": 2,
   "metadata": {},
   "outputs": [],
   "source": [
    "from keras.models import Sequential\n",
    "from keras.layers import Dense"
   ]
  },
  {
   "cell_type": "code",
   "execution_count": 24,
   "metadata": {},
   "outputs": [],
   "source": [
    "model = Sequential()\n",
    "\n",
    "#Hinzufuegen eines Layers mit Dense\n",
    "#100 = Anzahl der Neuronen (frei gewaehlt)\n",
    "#784 = Anzahl der Pixel pro Bild\n",
    "\n",
    "#Verschiedene Werte werden ausprobiert um eine höhere Genauigkeit zu erhalten\n",
    "#meist ist es sigmoid und relu\n",
    "\n",
    "model.add(Dense(100, activation=\"sigmoid\", input_shape=(784,))) # Hidden - Layer\n",
    "model.add(Dense(50, activation=\"sigmoid\", input_shape=(784,))) # Hidden - Layer\n",
    "model.add(Dense(10,activation=\"softmax\")) # Output - Layer - Die 10 repräsentiert die Anzahl der Ausgänge\n",
    "\n",
    "#1. Parameter = Optimierung der Gewichtung über SGD (Stochastic Gradient Decent - Gradientenabstiegsverfahren)\n",
    "# andere: rmsprop, adam - ausprobieren welche besser sind\n",
    "#2. Parameter = Standardwert\n",
    "model.compile(optimizer=\"adam\", loss=\"categorical_crossentropy\", metrics=[\"accuracy\"])"
   ]
  },
  {
   "cell_type": "code",
   "execution_count": 25,
   "metadata": {},
   "outputs": [
    {
     "name": "stdout",
     "output_type": "stream",
     "text": [
      "Epoch 1/100\n",
      "60000/60000 [==============================] - 1s 11us/step - loss: 1.6721 - accuracy: 0.5701\n",
      "Epoch 2/100\n",
      "60000/60000 [==============================] - 1s 9us/step - loss: 1.0243 - accuracy: 0.7155\n",
      "Epoch 3/100\n",
      "60000/60000 [==============================] - 1s 9us/step - loss: 0.7797 - accuracy: 0.7697\n",
      "Epoch 4/100\n",
      "60000/60000 [==============================] - 1s 9us/step - loss: 0.6552 - accuracy: 0.7952\n",
      "Epoch 5/100\n",
      "60000/60000 [==============================] - 1s 9us/step - loss: 0.5935 - accuracy: 0.8086\n",
      "Epoch 6/100\n",
      "60000/60000 [==============================] - 1s 9us/step - loss: 0.5572 - accuracy: 0.8155\n",
      "Epoch 7/100\n",
      "60000/60000 [==============================] - 1s 9us/step - loss: 0.5340 - accuracy: 0.8188\n",
      "Epoch 8/100\n",
      "60000/60000 [==============================] - 1s 9us/step - loss: 0.5203 - accuracy: 0.8224\n",
      "Epoch 9/100\n",
      "60000/60000 [==============================] - 1s 9us/step - loss: 0.5105 - accuracy: 0.8257\n",
      "Epoch 10/100\n",
      "60000/60000 [==============================] - 1s 9us/step - loss: 0.5121 - accuracy: 0.8227\n",
      "Epoch 11/100\n",
      "60000/60000 [==============================] - 1s 9us/step - loss: 0.4983 - accuracy: 0.8265\n",
      "Epoch 12/100\n",
      "60000/60000 [==============================] - 1s 9us/step - loss: 0.4865 - accuracy: 0.8295\n",
      "Epoch 13/100\n",
      "60000/60000 [==============================] - 1s 9us/step - loss: 0.4804 - accuracy: 0.8298\n",
      "Epoch 14/100\n",
      "60000/60000 [==============================] - 1s 10us/step - loss: 0.4816 - accuracy: 0.8285\n",
      "Epoch 15/100\n",
      "60000/60000 [==============================] - 1s 11us/step - loss: 0.4766 - accuracy: 0.8297\n",
      "Epoch 16/100\n",
      "60000/60000 [==============================] - 1s 10us/step - loss: 0.4862 - accuracy: 0.8280\n",
      "Epoch 17/100\n",
      "60000/60000 [==============================] - 1s 9us/step - loss: 0.4792 - accuracy: 0.8299\n",
      "Epoch 18/100\n",
      "60000/60000 [==============================] - 1s 9us/step - loss: 0.4758 - accuracy: 0.8298\n",
      "Epoch 19/100\n",
      "60000/60000 [==============================] - 1s 9us/step - loss: 0.4723 - accuracy: 0.8321\n",
      "Epoch 20/100\n",
      "60000/60000 [==============================] - 1s 9us/step - loss: 0.4710 - accuracy: 0.8324\n",
      "Epoch 21/100\n",
      "60000/60000 [==============================] - 1s 9us/step - loss: 0.4629 - accuracy: 0.8357\n",
      "Epoch 22/100\n",
      "60000/60000 [==============================] - 1s 9us/step - loss: 0.4633 - accuracy: 0.8334\n",
      "Epoch 23/100\n",
      "60000/60000 [==============================] - 1s 9us/step - loss: 0.4616 - accuracy: 0.8307\n",
      "Epoch 24/100\n",
      "60000/60000 [==============================] - 1s 9us/step - loss: 0.4590 - accuracy: 0.8364\n",
      "Epoch 25/100\n",
      "60000/60000 [==============================] - 1s 11us/step - loss: 0.4542 - accuracy: 0.8366\n",
      "Epoch 26/100\n",
      "60000/60000 [==============================] - 1s 10us/step - loss: 0.4556 - accuracy: 0.8343\n",
      "Epoch 27/100\n",
      "60000/60000 [==============================] - 1s 9us/step - loss: 0.4553 - accuracy: 0.8375\n",
      "Epoch 28/100\n",
      "60000/60000 [==============================] - 1s 9us/step - loss: 0.4662 - accuracy: 0.8341\n",
      "Epoch 29/100\n",
      "60000/60000 [==============================] - 1s 9us/step - loss: 0.4651 - accuracy: 0.8330\n",
      "Epoch 30/100\n",
      "60000/60000 [==============================] - 1s 9us/step - loss: 0.4525 - accuracy: 0.8367\n",
      "Epoch 31/100\n",
      "60000/60000 [==============================] - 1s 9us/step - loss: 0.4581 - accuracy: 0.8347\n",
      "Epoch 32/100\n",
      "60000/60000 [==============================] - 1s 9us/step - loss: 0.4456 - accuracy: 0.8399: 0s - loss: 0.4590 - \n",
      "Epoch 33/100\n",
      "60000/60000 [==============================] - 1s 9us/step - loss: 0.4600 - accuracy: 0.8343\n",
      "Epoch 34/100\n",
      "60000/60000 [==============================] - 1s 9us/step - loss: 0.4560 - accuracy: 0.8344\n",
      "Epoch 35/100\n",
      "60000/60000 [==============================] - 1s 9us/step - loss: 0.4544 - accuracy: 0.8368\n",
      "Epoch 36/100\n",
      "60000/60000 [==============================] - 1s 10us/step - loss: 0.4586 - accuracy: 0.8338\n",
      "Epoch 37/100\n",
      "60000/60000 [==============================] - 1s 10us/step - loss: 0.4474 - accuracy: 0.8388\n",
      "Epoch 38/100\n",
      "60000/60000 [==============================] - 1s 9us/step - loss: 0.4386 - accuracy: 0.8420\n",
      "Epoch 39/100\n",
      "60000/60000 [==============================] - 1s 9us/step - loss: 0.4367 - accuracy: 0.8414\n",
      "Epoch 40/100\n",
      "60000/60000 [==============================] - 1s 9us/step - loss: 0.4512 - accuracy: 0.8354\n",
      "Epoch 41/100\n",
      "60000/60000 [==============================] - 1s 10us/step - loss: 0.4587 - accuracy: 0.8346\n",
      "Epoch 42/100\n",
      "60000/60000 [==============================] - 1s 11us/step - loss: 0.4481 - accuracy: 0.8344\n",
      "Epoch 43/100\n",
      "60000/60000 [==============================] - 1s 10us/step - loss: 0.4478 - accuracy: 0.8385\n",
      "Epoch 44/100\n",
      "60000/60000 [==============================] - 1s 10us/step - loss: 0.4374 - accuracy: 0.8404\n",
      "Epoch 45/100\n",
      "60000/60000 [==============================] - 1s 9us/step - loss: 0.4461 - accuracy: 0.8363\n",
      "Epoch 46/100\n",
      "60000/60000 [==============================] - 1s 9us/step - loss: 0.4434 - accuracy: 0.8398\n",
      "Epoch 47/100\n",
      "60000/60000 [==============================] - 1s 10us/step - loss: 0.4379 - accuracy: 0.8389\n",
      "Epoch 48/100\n",
      "60000/60000 [==============================] - 1s 10us/step - loss: 0.4452 - accuracy: 0.8363\n",
      "Epoch 49/100\n",
      "60000/60000 [==============================] - 1s 10us/step - loss: 0.4479 - accuracy: 0.8377 0s - loss: 0.4549 - \n",
      "Epoch 50/100\n",
      "60000/60000 [==============================] - 1s 10us/step - loss: 0.4454 - accuracy: 0.8388\n",
      "Epoch 51/100\n",
      "60000/60000 [==============================] - 1s 10us/step - loss: 0.4333 - accuracy: 0.8443\n",
      "Epoch 52/100\n",
      "60000/60000 [==============================] - 1s 10us/step - loss: 0.4382 - accuracy: 0.8395\n",
      "Epoch 53/100\n",
      "60000/60000 [==============================] - 1s 11us/step - loss: 0.4374 - accuracy: 0.8398\n",
      "Epoch 54/100\n",
      "60000/60000 [==============================] - 1s 10us/step - loss: 0.4432 - accuracy: 0.8381\n",
      "Epoch 55/100\n",
      "60000/60000 [==============================] - 1s 10us/step - loss: 0.4392 - accuracy: 0.8403\n",
      "Epoch 56/100\n",
      "60000/60000 [==============================] - 1s 10us/step - loss: 0.4369 - accuracy: 0.8398\n",
      "Epoch 57/100\n",
      "60000/60000 [==============================] - 1s 10us/step - loss: 0.4245 - accuracy: 0.8461\n",
      "Epoch 58/100\n",
      "60000/60000 [==============================] - 1s 10us/step - loss: 0.4236 - accuracy: 0.8482\n",
      "Epoch 59/100\n",
      "60000/60000 [==============================] - 1s 10us/step - loss: 0.4171 - accuracy: 0.8472\n",
      "Epoch 60/100\n",
      "60000/60000 [==============================] - 1s 10us/step - loss: 0.4255 - accuracy: 0.8450\n",
      "Epoch 61/100\n",
      "60000/60000 [==============================] - 1s 10us/step - loss: 0.4359 - accuracy: 0.8408\n",
      "Epoch 62/100\n",
      "60000/60000 [==============================] - 1s 10us/step - loss: 0.4350 - accuracy: 0.8403\n",
      "Epoch 63/100\n",
      "60000/60000 [==============================] - 1s 10us/step - loss: 0.4309 - accuracy: 0.8439\n",
      "Epoch 64/100\n",
      "60000/60000 [==============================] - 1s 10us/step - loss: 0.4404 - accuracy: 0.8384\n",
      "Epoch 65/100\n",
      "60000/60000 [==============================] - 1s 10us/step - loss: 0.4371 - accuracy: 0.8427\n",
      "Epoch 66/100\n",
      "60000/60000 [==============================] - 1s 11us/step - loss: 0.4318 - accuracy: 0.8450\n",
      "Epoch 67/100\n",
      "60000/60000 [==============================] - 1s 11us/step - loss: 0.4321 - accuracy: 0.8419\n",
      "Epoch 68/100\n",
      "60000/60000 [==============================] - 1s 11us/step - loss: 0.4180 - accuracy: 0.8483\n",
      "Epoch 69/100\n",
      "60000/60000 [==============================] - 1s 13us/step - loss: 0.4297 - accuracy: 0.8422\n",
      "Epoch 70/100\n",
      "60000/60000 [==============================] - 1s 12us/step - loss: 0.4322 - accuracy: 0.8438\n",
      "Epoch 71/100\n",
      "60000/60000 [==============================] - 1s 11us/step - loss: 0.4311 - accuracy: 0.8454\n",
      "Epoch 72/100\n",
      "60000/60000 [==============================] - 1s 11us/step - loss: 0.4299 - accuracy: 0.8417\n",
      "Epoch 73/100\n",
      "60000/60000 [==============================] - 1s 11us/step - loss: 0.4279 - accuracy: 0.8432\n",
      "Epoch 74/100\n",
      "60000/60000 [==============================] - 1s 11us/step - loss: 0.4268 - accuracy: 0.8439\n",
      "Epoch 75/100\n",
      "60000/60000 [==============================] - 1s 10us/step - loss: 0.4161 - accuracy: 0.8459\n",
      "Epoch 76/100\n",
      "60000/60000 [==============================] - 1s 10us/step - loss: 0.4191 - accuracy: 0.8448\n",
      "Epoch 77/100\n"
     ]
    },
    {
     "name": "stdout",
     "output_type": "stream",
     "text": [
      "60000/60000 [==============================] - 1s 11us/step - loss: 0.4074 - accuracy: 0.8517\n",
      "Epoch 78/100\n",
      "60000/60000 [==============================] - 1s 10us/step - loss: 0.4179 - accuracy: 0.8479\n",
      "Epoch 79/100\n",
      "60000/60000 [==============================] - 1s 10us/step - loss: 0.4181 - accuracy: 0.8484\n",
      "Epoch 80/100\n",
      "60000/60000 [==============================] - 1s 10us/step - loss: 0.4140 - accuracy: 0.8490\n",
      "Epoch 81/100\n",
      "60000/60000 [==============================] - 1s 10us/step - loss: 0.4332 - accuracy: 0.8433\n",
      "Epoch 82/100\n",
      "60000/60000 [==============================] - 1s 10us/step - loss: 0.4253 - accuracy: 0.8434\n",
      "Epoch 83/100\n",
      "60000/60000 [==============================] - 1s 10us/step - loss: 0.4147 - accuracy: 0.8489\n",
      "Epoch 84/100\n",
      "60000/60000 [==============================] - 1s 10us/step - loss: 0.4149 - accuracy: 0.8490\n",
      "Epoch 85/100\n",
      "60000/60000 [==============================] - 1s 11us/step - loss: 0.4328 - accuracy: 0.8411\n",
      "Epoch 86/100\n",
      "60000/60000 [==============================] - 1s 10us/step - loss: 0.4217 - accuracy: 0.8471\n",
      "Epoch 87/100\n",
      "60000/60000 [==============================] - 1s 10us/step - loss: 0.4111 - accuracy: 0.8534\n",
      "Epoch 88/100\n",
      "60000/60000 [==============================] - 1s 11us/step - loss: 0.4085 - accuracy: 0.8505\n",
      "Epoch 89/100\n",
      "60000/60000 [==============================] - 1s 10us/step - loss: 0.4079 - accuracy: 0.8509\n",
      "Epoch 90/100\n",
      "60000/60000 [==============================] - 1s 11us/step - loss: 0.4121 - accuracy: 0.8487\n",
      "Epoch 91/100\n",
      "60000/60000 [==============================] - 1s 10us/step - loss: 0.4149 - accuracy: 0.8478\n",
      "Epoch 92/100\n",
      "60000/60000 [==============================] - 1s 10us/step - loss: 0.4079 - accuracy: 0.8523\n",
      "Epoch 93/100\n",
      "60000/60000 [==============================] - 1s 11us/step - loss: 0.4091 - accuracy: 0.8505\n",
      "Epoch 94/100\n",
      "60000/60000 [==============================] - 1s 12us/step - loss: 0.4083 - accuracy: 0.8507\n",
      "Epoch 95/100\n",
      "60000/60000 [==============================] - 1s 12us/step - loss: 0.4053 - accuracy: 0.8492\n",
      "Epoch 96/100\n",
      "60000/60000 [==============================] - 1s 10us/step - loss: 0.4091 - accuracy: 0.8513\n",
      "Epoch 97/100\n",
      "60000/60000 [==============================] - 1s 10us/step - loss: 0.4142 - accuracy: 0.8475\n",
      "Epoch 98/100\n",
      "60000/60000 [==============================] - 1s 10us/step - loss: 0.4261 - accuracy: 0.8454\n",
      "Epoch 99/100\n",
      "60000/60000 [==============================] - 1s 10us/step - loss: 0.4023 - accuracy: 0.8536\n",
      "Epoch 100/100\n",
      "60000/60000 [==============================] - 1s 10us/step - loss: 0.4116 - accuracy: 0.8500\n"
     ]
    },
    {
     "data": {
      "text/plain": [
       "<keras.callbacks.callbacks.History at 0x2026d64d708>"
      ]
     },
     "execution_count": 25,
     "metadata": {},
     "output_type": "execute_result"
    }
   ],
   "source": [
    "#so lange trainieren, bis sich das loss nicht viel ändert\n",
    "#ziel ist das loss zu minimieren\n",
    "\n",
    "model.fit(\n",
    "    X_train.reshape(60000,784),\n",
    "    y_train,\n",
    "    epochs=100, #Anzahl wie häufig die Epochen durchlaufen werden sollen\n",
    "    batch_size=1000 #Nach 1000 Bildern werden die Gewichte aktualisiert\n",
    ")"
   ]
  },
  {
   "cell_type": "code",
   "execution_count": 8,
   "metadata": {},
   "outputs": [],
   "source": [
    "predictions = model.predict(X_test.reshape(-1,784))"
   ]
  },
  {
   "cell_type": "markdown",
   "metadata": {},
   "source": [
    "## Es gilt: Das Netz passt sich an die Daten an\n",
    "\n",
    "Testgenauigkeit nur minimal schlechter als Trainigsgenauigkeit = Das Modell darf etwas komplexer sein\n",
    "Testgenauigkeit viel schlechter als Trainingsgenauigkeit = Das Modell ist zu komplex (hat sich zu sehr an Training angepasst)\n",
    "Beides schleck = Man braucht mehr Daten"
   ]
  },
  {
   "cell_type": "code",
   "execution_count": 26,
   "metadata": {},
   "outputs": [
    {
     "name": "stdout",
     "output_type": "stream",
     "text": [
      "60000/60000 [==============================] - 1s 21us/step\n"
     ]
    },
    {
     "data": {
      "text/plain": [
       "[0.4143496912717819, 0.8504833579063416]"
      ]
     },
     "execution_count": 26,
     "metadata": {},
     "output_type": "execute_result"
    }
   ],
   "source": [
    "# testdaten Genauigkeit vorhersagen\n",
    "\n",
    "model.evaluate(X_train.reshape(-1,784),y_train)"
   ]
  },
  {
   "cell_type": "code",
   "execution_count": 27,
   "metadata": {},
   "outputs": [
    {
     "name": "stdout",
     "output_type": "stream",
     "text": [
      "10000/10000 [==============================] - 0s 23us/step\n"
     ]
    },
    {
     "data": {
      "text/plain": [
       "[0.46780483422279356, 0.8317999839782715]"
      ]
     },
     "execution_count": 27,
     "metadata": {},
     "output_type": "execute_result"
    }
   ],
   "source": [
    "model.evaluate(X_test.reshape(-1,784),y_test)"
   ]
  },
  {
   "cell_type": "code",
   "execution_count": 11,
   "metadata": {},
   "outputs": [
    {
     "data": {
      "text/plain": [
       "1.0"
      ]
     },
     "execution_count": 11,
     "metadata": {},
     "output_type": "execute_result"
    }
   ],
   "source": [
    "np.sum(predictions[0])"
   ]
  },
  {
   "cell_type": "code",
   "execution_count": null,
   "metadata": {},
   "outputs": [],
   "source": []
  }
 ],
 "metadata": {
  "kernelspec": {
   "display_name": "Python 3",
   "language": "python",
   "name": "python3"
  },
  "language_info": {
   "codemirror_mode": {
    "name": "ipython",
    "version": 3
   },
   "file_extension": ".py",
   "mimetype": "text/x-python",
   "name": "python",
   "nbconvert_exporter": "python",
   "pygments_lexer": "ipython3",
   "version": "3.7.6"
  }
 },
 "nbformat": 4,
 "nbformat_minor": 4
}
