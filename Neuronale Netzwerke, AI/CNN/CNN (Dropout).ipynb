{
 "cells": [
  {
   "cell_type": "code",
   "execution_count": 1,
   "metadata": {},
   "outputs": [
    {
     "name": "stderr",
     "output_type": "stream",
     "text": [
      "Using TensorFlow backend.\n",
      "C:\\Anaconda3\\lib\\site-packages\\tensorflow\\python\\framework\\dtypes.py:526: FutureWarning: Passing (type, 1) or '1type' as a synonym of type is deprecated; in a future version of numpy, it will be understood as (type, (1,)) / '(1,)type'.\n",
      "  _np_qint8 = np.dtype([(\"qint8\", np.int8, 1)])\n",
      "C:\\Anaconda3\\lib\\site-packages\\tensorflow\\python\\framework\\dtypes.py:527: FutureWarning: Passing (type, 1) or '1type' as a synonym of type is deprecated; in a future version of numpy, it will be understood as (type, (1,)) / '(1,)type'.\n",
      "  _np_quint8 = np.dtype([(\"quint8\", np.uint8, 1)])\n",
      "C:\\Anaconda3\\lib\\site-packages\\tensorflow\\python\\framework\\dtypes.py:528: FutureWarning: Passing (type, 1) or '1type' as a synonym of type is deprecated; in a future version of numpy, it will be understood as (type, (1,)) / '(1,)type'.\n",
      "  _np_qint16 = np.dtype([(\"qint16\", np.int16, 1)])\n",
      "C:\\Anaconda3\\lib\\site-packages\\tensorflow\\python\\framework\\dtypes.py:529: FutureWarning: Passing (type, 1) or '1type' as a synonym of type is deprecated; in a future version of numpy, it will be understood as (type, (1,)) / '(1,)type'.\n",
      "  _np_quint16 = np.dtype([(\"quint16\", np.uint16, 1)])\n",
      "C:\\Anaconda3\\lib\\site-packages\\tensorflow\\python\\framework\\dtypes.py:530: FutureWarning: Passing (type, 1) or '1type' as a synonym of type is deprecated; in a future version of numpy, it will be understood as (type, (1,)) / '(1,)type'.\n",
      "  _np_qint32 = np.dtype([(\"qint32\", np.int32, 1)])\n",
      "C:\\Anaconda3\\lib\\site-packages\\tensorflow\\python\\framework\\dtypes.py:535: FutureWarning: Passing (type, 1) or '1type' as a synonym of type is deprecated; in a future version of numpy, it will be understood as (type, (1,)) / '(1,)type'.\n",
      "  np_resource = np.dtype([(\"resource\", np.ubyte, 1)])\n"
     ]
    }
   ],
   "source": [
    "import gzip\n",
    "import numpy as np\n",
    "from keras.utils import to_categorical\n",
    "\n",
    "#Funktion zum Laden der einzelnen Bilder\n",
    "def open_images(filename):\n",
    "    #öffnen der gzip-Datein\n",
    "    with gzip.open(filename, \"rb\") as file:\n",
    "        #Laden aller daten\n",
    "        data = file.read()\n",
    "        #Schreiben der Daten in ein Numpy Array und Rückgabe des Arrays\n",
    "        return np.frombuffer(data, dtype=np.uint8, offset=16)\\\n",
    "            .reshape(-1,28,28)\\\n",
    "            .astype(np.float32)\n",
    "    \n",
    "def open_labels(filename):\n",
    "    with gzip.open(filename,\"rb\") as file:\n",
    "        data = file.read()\n",
    "        return np.frombuffer(data,dtype=np.uint8,offset=8)\n",
    "\n",
    "#erstellen der Daten arrays\n",
    "X_train = open_images(\"../Kursmaterialien/data/fashion/train-images-idx3-ubyte.gz\")\n",
    "y_train = open_labels(\"../Kursmaterialien/data/fashion/train-labels-idx1-ubyte.gz\")\n",
    "\n",
    "X_test = open_images(\"../Kursmaterialien/data/fashion/t10k-images-idx3-ubyte.gz\")\n",
    "y_test = open_labels(\"../Kursmaterialien/data/fashion/t10k-labels-idx1-ubyte.gz\")\n",
    "\n",
    "y_train = to_categorical(y_train)\n",
    "y_test = to_categorical(y_test)\n"
   ]
  },
  {
   "cell_type": "code",
   "execution_count": 7,
   "metadata": {
    "scrolled": true
   },
   "outputs": [
    {
     "name": "stdout",
     "output_type": "stream",
     "text": [
      "Epoch 1/10\n",
      "60000/60000 [==============================] - 8s 139us/step - loss: 1.0438 - accuracy: 0.6501\n",
      "Epoch 2/10\n",
      "60000/60000 [==============================] - 9s 153us/step - loss: 0.5954 - accuracy: 0.7944\n",
      "Epoch 3/10\n",
      "60000/60000 [==============================] - 10s 160us/step - loss: 0.4958 - accuracy: 0.8238\n",
      "Epoch 4/10\n",
      "60000/60000 [==============================] - 10s 159us/step - loss: 0.4473 - accuracy: 0.8404\n",
      "Epoch 5/10\n",
      "60000/60000 [==============================] - 10s 162us/step - loss: 0.4147 - accuracy: 0.8542\n",
      "Epoch 6/10\n",
      "60000/60000 [==============================] - 10s 161us/step - loss: 0.3918 - accuracy: 0.8616\n",
      "Epoch 7/10\n",
      "60000/60000 [==============================] - 9s 158us/step - loss: 0.3794 - accuracy: 0.8640\n",
      "Epoch 8/10\n",
      "60000/60000 [==============================] - 10s 163us/step - loss: 0.3648 - accuracy: 0.8699\n",
      "Epoch 9/10\n",
      "60000/60000 [==============================] - 10s 161us/step - loss: 0.3553 - accuracy: 0.8729\n",
      "Epoch 10/10\n",
      "60000/60000 [==============================] - 10s 162us/step - loss: 0.3465 - accuracy: 0.8760\n"
     ]
    },
    {
     "data": {
      "text/plain": [
       "<keras.callbacks.callbacks.History at 0x1ba5bdd2188>"
      ]
     },
     "execution_count": 7,
     "metadata": {},
     "output_type": "execute_result"
    }
   ],
   "source": [
    "from keras.models import Sequential\n",
    "from keras.layers import Dense, Conv2D, MaxPooling2D, Flatten, Dropout\n",
    "\n",
    "model = Sequential()\n",
    "\n",
    "model.add(Conv2D(10, kernel_size=(3,3), activation=\"relu\", input_shape=(28,28,1))) \n",
    "model.add(MaxPooling2D(pool_size=(2,2)))\n",
    "model.add(Dropout(0.25))\n",
    "model.add(Flatten()) \n",
    "model.add(Dense(100,activation=\"sigmoid\")) \n",
    "model.add(Dropout(0.25))\n",
    "model.add(Dense(10,activation=\"softmax\"))\n",
    "\n",
    "model.compile(optimizer=\"rmsprop\", loss=\"categorical_crossentropy\", metrics=[\"accuracy\"])\n",
    "\n",
    "model.fit(\n",
    "    X_train.reshape(60000,28,28,1),\n",
    "    y_train,\n",
    "    epochs=10, #Anzahl wie häufig die Epochen durchlaufen werden sollen\n",
    "    batch_size=1000 #Nach 1000 Bildern werden die Gewichte aktualisiert\n",
    ")\n"
   ]
  },
  {
   "cell_type": "code",
   "execution_count": 8,
   "metadata": {},
   "outputs": [
    {
     "name": "stdout",
     "output_type": "stream",
     "text": [
      "60000/60000 [==============================] - 6s 95us/step\n",
      "[0.2845893675923348, 0.8967833518981934]\n",
      "10000/10000 [==============================] - 1s 98us/step\n",
      "[0.3237734315872192, 0.8845999836921692]\n"
     ]
    }
   ],
   "source": [
    "### Dropout lohnt sich, wenn sich große Unterschiede zwischen trainings und testdaten auftreten\n",
    "\n",
    "print(model.evaluate(X_train.reshape(-1, 28, 28, 1), y_train))\n",
    "print(model.evaluate(X_test.reshape(-1, 28, 28, 1), y_test))"
   ]
  },
  {
   "cell_type": "code",
   "execution_count": null,
   "metadata": {},
   "outputs": [],
   "source": []
  }
 ],
 "metadata": {
  "kernelspec": {
   "display_name": "Python 3",
   "language": "python",
   "name": "python3"
  },
  "language_info": {
   "codemirror_mode": {
    "name": "ipython",
    "version": 3
   },
   "file_extension": ".py",
   "mimetype": "text/x-python",
   "name": "python",
   "nbconvert_exporter": "python",
   "pygments_lexer": "ipython3",
   "version": "3.7.6"
  }
 },
 "nbformat": 4,
 "nbformat_minor": 4
}
