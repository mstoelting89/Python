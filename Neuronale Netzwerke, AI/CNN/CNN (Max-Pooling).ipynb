{
 "cells": [
  {
   "cell_type": "code",
   "execution_count": 1,
   "metadata": {},
   "outputs": [
    {
     "name": "stderr",
     "output_type": "stream",
     "text": [
      "Using TensorFlow backend.\n",
      "C:\\Anaconda3\\lib\\site-packages\\tensorflow\\python\\framework\\dtypes.py:526: FutureWarning: Passing (type, 1) or '1type' as a synonym of type is deprecated; in a future version of numpy, it will be understood as (type, (1,)) / '(1,)type'.\n",
      "  _np_qint8 = np.dtype([(\"qint8\", np.int8, 1)])\n",
      "C:\\Anaconda3\\lib\\site-packages\\tensorflow\\python\\framework\\dtypes.py:527: FutureWarning: Passing (type, 1) or '1type' as a synonym of type is deprecated; in a future version of numpy, it will be understood as (type, (1,)) / '(1,)type'.\n",
      "  _np_quint8 = np.dtype([(\"quint8\", np.uint8, 1)])\n",
      "C:\\Anaconda3\\lib\\site-packages\\tensorflow\\python\\framework\\dtypes.py:528: FutureWarning: Passing (type, 1) or '1type' as a synonym of type is deprecated; in a future version of numpy, it will be understood as (type, (1,)) / '(1,)type'.\n",
      "  _np_qint16 = np.dtype([(\"qint16\", np.int16, 1)])\n",
      "C:\\Anaconda3\\lib\\site-packages\\tensorflow\\python\\framework\\dtypes.py:529: FutureWarning: Passing (type, 1) or '1type' as a synonym of type is deprecated; in a future version of numpy, it will be understood as (type, (1,)) / '(1,)type'.\n",
      "  _np_quint16 = np.dtype([(\"quint16\", np.uint16, 1)])\n",
      "C:\\Anaconda3\\lib\\site-packages\\tensorflow\\python\\framework\\dtypes.py:530: FutureWarning: Passing (type, 1) or '1type' as a synonym of type is deprecated; in a future version of numpy, it will be understood as (type, (1,)) / '(1,)type'.\n",
      "  _np_qint32 = np.dtype([(\"qint32\", np.int32, 1)])\n",
      "C:\\Anaconda3\\lib\\site-packages\\tensorflow\\python\\framework\\dtypes.py:535: FutureWarning: Passing (type, 1) or '1type' as a synonym of type is deprecated; in a future version of numpy, it will be understood as (type, (1,)) / '(1,)type'.\n",
      "  np_resource = np.dtype([(\"resource\", np.ubyte, 1)])\n"
     ]
    }
   ],
   "source": [
    "import gzip\n",
    "import numpy as np\n",
    "from keras.utils import to_categorical\n",
    "\n",
    "#Funktion zum Laden der einzelnen Bilder\n",
    "def open_images(filename):\n",
    "    #öffnen der gzip-Datein\n",
    "    with gzip.open(filename, \"rb\") as file:\n",
    "        #Laden aller daten\n",
    "        data = file.read()\n",
    "        #Schreiben der Daten in ein Numpy Array und Rückgabe des Arrays\n",
    "        return np.frombuffer(data, dtype=np.uint8, offset=16)\\\n",
    "            .reshape(-1,28,28)\\\n",
    "            .astype(np.float32)\n",
    "    \n",
    "def open_labels(filename):\n",
    "    with gzip.open(filename,\"rb\") as file:\n",
    "        data = file.read()\n",
    "        return np.frombuffer(data,dtype=np.uint8,offset=8)\n",
    "\n",
    "#erstellen der Daten arrays\n",
    "X_train = open_images(\"../Kursmaterialien/data/fashion/train-images-idx3-ubyte.gz\")\n",
    "y_train = open_labels(\"../Kursmaterialien/data/fashion/train-labels-idx1-ubyte.gz\")\n",
    "\n",
    "X_test = open_images(\"../Kursmaterialien/data/fashion/t10k-images-idx3-ubyte.gz\")\n",
    "y_test = open_labels(\"../Kursmaterialien/data/fashion/t10k-labels-idx1-ubyte.gz\")\n",
    "\n",
    "y_train = to_categorical(y_train)\n",
    "y_test = to_categorical(y_test)\n"
   ]
  },
  {
   "cell_type": "code",
   "execution_count": 4,
   "metadata": {
    "scrolled": true
   },
   "outputs": [
    {
     "name": "stdout",
     "output_type": "stream",
     "text": [
      "WARNING:tensorflow:From C:\\Anaconda3\\lib\\site-packages\\tensorflow\\python\\ops\\math_ops.py:3066: to_int32 (from tensorflow.python.ops.math_ops) is deprecated and will be removed in a future version.\n",
      "Instructions for updating:\n",
      "Use tf.cast instead.\n",
      "Epoch 1/10\n",
      "60000/60000 [==============================] - 7s 115us/step - loss: 0.9160 - accuracy: 0.7017\n",
      "Epoch 2/10\n",
      "60000/60000 [==============================] - 7s 116us/step - loss: 0.5433 - accuracy: 0.8070\n",
      "Epoch 3/10\n",
      "60000/60000 [==============================] - 7s 115us/step - loss: 0.4687 - accuracy: 0.8320\n",
      "Epoch 4/10\n",
      "60000/60000 [==============================] - 7s 121us/step - loss: 0.4252 - accuracy: 0.8475\n",
      "Epoch 5/10\n",
      "60000/60000 [==============================] - 7s 123us/step - loss: 0.4012 - accuracy: 0.8568\n",
      "Epoch 6/10\n",
      "60000/60000 [==============================] - 8s 128us/step - loss: 0.3828 - accuracy: 0.8627\n",
      "Epoch 7/10\n",
      "60000/60000 [==============================] - 7s 124us/step - loss: 0.3658 - accuracy: 0.8687\n",
      "Epoch 8/10\n",
      "60000/60000 [==============================] - 8s 134us/step - loss: 0.3528 - accuracy: 0.8748\n",
      "Epoch 9/10\n",
      "60000/60000 [==============================] - 8s 131us/step - loss: 0.3414 - accuracy: 0.8779\n",
      "Epoch 10/10\n",
      "60000/60000 [==============================] - 8s 126us/step - loss: 0.3336 - accuracy: 0.8802\n"
     ]
    },
    {
     "data": {
      "text/plain": [
       "<keras.callbacks.callbacks.History at 0x1ed8a630c08>"
      ]
     },
     "execution_count": 4,
     "metadata": {},
     "output_type": "execute_result"
    }
   ],
   "source": [
    "from keras.models import Sequential\n",
    "from keras.layers import Dense, Conv2D, MaxPooling2D, Flatten\n",
    "\n",
    "model = Sequential()\n",
    "\n",
    "model.add(Conv2D(10, kernel_size=(3,3), activation=\"sigmoid\", input_shape=(28,28,1))) # Hidden - Layer\n",
    "model.add(MaxPooling2D(pool_size=(2,2)))\n",
    "model.add(Flatten()) #legt alle entstandenen Ebenen nebeneinander\n",
    "model.add(Dense(10,activation=\"softmax\")) # Output - Layer - Die 10 repräsentiert die Anzahl der Ausgänge\n",
    "\n",
    "#1. Parameter = Optimierung der Gewichtung über SGD (Stochastic Gradient Decent - Gradientenabstiegsverfahren)\n",
    "# andere: rmsprop, adam - ausprobieren welche besser sind\n",
    "#2. Parameter = Standardwert\n",
    "model.compile(optimizer=\"rmsprop\", loss=\"categorical_crossentropy\", metrics=[\"accuracy\"])\n",
    "\n",
    "#so lange trainieren, bis sich das loss nicht viel ändert\n",
    "#ziel ist das loss zu minimieren\n",
    "\n",
    "model.fit(\n",
    "    X_train.reshape(60000,28,28,1),\n",
    "    y_train,\n",
    "    epochs=10, #Anzahl wie häufig die Epochen durchlaufen werden sollen\n",
    "    batch_size=1000 #Nach 1000 Bildern werden die Gewichte aktualisiert\n",
    ")\n",
    "\n",
    "###Ergebnisse:\n",
    "#optimizer bisher rmsprop deutlich am besten\n",
    "#batch_size nicht großartig relevant - Unterschied 100 zu 1000 ca. 1%FI!"
   ]
  },
  {
   "cell_type": "code",
   "execution_count": 11,
   "metadata": {},
   "outputs": [
    {
     "data": {
      "text/plain": [
       "<tf.Variable 'conv2d_3/kernel:0' shape=(3, 3, 1, 10) dtype=float32>"
      ]
     },
     "execution_count": 11,
     "metadata": {},
     "output_type": "execute_result"
    }
   ],
   "source": [
    "model.layers[0].weights[0]"
   ]
  },
  {
   "cell_type": "code",
   "execution_count": 14,
   "metadata": {},
   "outputs": [
    {
     "name": "stdout",
     "output_type": "stream",
     "text": [
      "[[[[-0.20518522 -0.1375683  -0.1754896   0.03459962 -0.11423163\n",
      "    -0.11430893  0.06740379  0.03327991 -0.33354554 -0.05392713]]\n",
      "\n",
      "  [[-0.22418134  0.09070969 -0.08724149  0.16443811 -0.08753213\n",
      "     0.04543825  0.10940294 -0.0537686   0.04552344 -0.07295241]]\n",
      "\n",
      "  [[-0.08230015  0.00671125 -0.24369806  0.01733411  0.17879723\n",
      "     0.07546156 -0.16026476 -0.06528338 -0.16641934 -0.21123195]]]\n",
      "\n",
      "\n",
      " [[[ 0.04167734 -0.03744611  0.1229654  -0.01117086 -0.17672585\n",
      "     0.02176183 -0.01289911 -0.19574909 -0.18893647 -0.18581647]]\n",
      "\n",
      "  [[ 0.11231121 -0.17054367 -0.06951179  0.02123112 -0.09660461\n",
      "    -0.01490051 -0.05331879 -0.00277225  0.1543285  -0.03639309]]\n",
      "\n",
      "  [[ 0.09694358  0.23512189 -0.07718297 -0.17485803  0.01272443\n",
      "     0.07163896 -0.11228492 -0.12482167  0.14128713  0.06027691]]]\n",
      "\n",
      "\n",
      " [[[ 0.11533432 -0.05580726  0.00041849 -0.20217545 -0.11743211\n",
      "    -0.04767222  0.01971708  0.1345571   0.0933966   0.00786953]]\n",
      "\n",
      "  [[ 0.12015064 -0.11302807  0.20425247  0.03089061  0.05012461\n",
      "     0.06835319 -0.1725232  -0.0994544   0.00195035  0.05222303]]\n",
      "\n",
      "  [[-0.02351494  0.13089997  0.06859732  0.00599319 -0.2049195\n",
      "    -0.24463665  0.18055174 -0.09518024 -0.07413543  0.22495545]]]]\n"
     ]
    }
   ],
   "source": [
    "#Daten werden aus dem Grafikkartenspeicher gezogen\n",
    "import keras.backend as K\n",
    "\n",
    "data = K.eval(model.layers[0].weights[0])\n",
    "print(data)"
   ]
  },
  {
   "cell_type": "code",
   "execution_count": 16,
   "metadata": {},
   "outputs": [
    {
     "data": {
      "text/plain": [
       "array([[-0.20518522, -0.22418134, -0.08230015],\n",
       "       [ 0.04167734,  0.11231121,  0.09694358],\n",
       "       [ 0.11533432,  0.12015064, -0.02351494]], dtype=float32)"
      ]
     },
     "execution_count": 16,
     "metadata": {},
     "output_type": "execute_result"
    }
   ],
   "source": [
    "data[:,:,:,0].reshape(3,3)"
   ]
  },
  {
   "cell_type": "code",
   "execution_count": 19,
   "metadata": {},
   "outputs": [
    {
     "data": {
      "image/png": "[encoded data removed]",
      "text/plain": [
       "<Figure size 432x288 with 1 Axes>"
      ]
     },
     "metadata": {
      "needs_background": "light"
     },
     "output_type": "display_data"
    }
   ],
   "source": [
    "%matplotlib inline\n",
    "\n",
    "import matplotlib.pyplot as plt\n",
    "\n",
    "plt.imshow(data[:,:,:,1].reshape(3,3))\n",
    "plt.show()"
   ]
  },
  {
   "cell_type": "code",
   "execution_count": 20,
   "metadata": {},
   "outputs": [],
   "source": [
    "model2 = Sequential()\n",
    "\n",
    "model2.add(Conv2D(10, \n",
    "                  kernel_size=(3,3), \n",
    "                  activation=\"sigmoid\", \n",
    "                  input_shape=(28,28,1),\n",
    "                 weights=model.layers[0].get_weights()))"
   ]
  },
  {
   "cell_type": "code",
   "execution_count": 23,
   "metadata": {},
   "outputs": [
    {
     "data": {
      "text/plain": [
       "<function matplotlib.pyplot.show(*args, **kw)>"
      ]
     },
     "execution_count": 23,
     "metadata": {},
     "output_type": "execute_result"
    },
    {
     "data": {
      "image/png": "[encoded data removed]",
      "text/plain": [
       "<Figure size 432x288 with 1 Axes>"
      ]
     },
     "metadata": {
      "needs_background": "light"
     },
     "output_type": "display_data"
    }
   ],
   "source": [
    "%matplotlib inline\n",
    "\n",
    "import matplotlib.pyplot as plt\n",
    "\n",
    "plt.imshow(X_test[0], cmap=\"gray_r\")\n",
    "plt.show"
   ]
  },
  {
   "cell_type": "code",
   "execution_count": 27,
   "metadata": {},
   "outputs": [],
   "source": [
    "result = model2.predict(X_test[0].reshape(1, 28, 28, 1))"
   ]
  },
  {
   "cell_type": "code",
   "execution_count": 28,
   "metadata": {},
   "outputs": [
    {
     "data": {
      "text/plain": [
       "(1, 26, 26, 10)"
      ]
     },
     "execution_count": 28,
     "metadata": {},
     "output_type": "execute_result"
    }
   ],
   "source": [
    "result.shape"
   ]
  },
  {
   "cell_type": "code",
   "execution_count": 30,
   "metadata": {},
   "outputs": [
    {
     "data": {
      "text/plain": [
       "(26, 10)"
      ]
     },
     "execution_count": 30,
     "metadata": {},
     "output_type": "execute_result"
    }
   ],
   "source": [
    "result[0].shape"
   ]
  },
  {
   "cell_type": "code",
   "execution_count": 38,
   "metadata": {},
   "outputs": [
    {
     "data": {
      "image/png": "[encoded data removed]",
      "text/plain": [
       "<Figure size 432x288 with 1 Axes>"
      ]
     },
     "metadata": {
      "needs_background": "light"
     },
     "output_type": "display_data"
    }
   ],
   "source": [
    "plt.imshow(result[0][:,:,6])\n",
    "plt.show()"
   ]
  },
  {
   "cell_type": "code",
   "execution_count": null,
   "metadata": {},
   "outputs": [],
   "source": []
  }
 ],
 "metadata": {
  "kernelspec": {
   "display_name": "Python 3",
   "language": "python",
   "name": "python3"
  },
  "language_info": {
   "codemirror_mode": {
    "name": "ipython",
    "version": 3
   },
   "file_extension": ".py",
   "mimetype": "text/x-python",
   "name": "python",
   "nbconvert_exporter": "python",
   "pygments_lexer": "ipython3",
   "version": "3.7.6"
  }
 },
 "nbformat": 4,
 "nbformat_minor": 4
}
