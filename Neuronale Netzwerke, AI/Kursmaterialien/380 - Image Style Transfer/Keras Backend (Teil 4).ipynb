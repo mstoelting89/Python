{
 "cells": [
  {
   "cell_type": "code",
   "execution_count": 6,
   "metadata": {},
   "outputs": [],
   "source": [
    "# (a - x)^2 = 4\n",
    "\n",
    "# Frage: a = 5\n",
    "# Was ist die Lösung für x?"
   ]
  },
  {
   "cell_type": "code",
   "execution_count": 7,
   "metadata": {},
   "outputs": [],
   "source": [
    "import keras.backend as K\n",
    "import numpy as np"
   ]
  },
  {
   "cell_type": "code",
   "execution_count": 8,
   "metadata": {},
   "outputs": [],
   "source": [
    "K.clear_session()\n",
    "\n",
    "a = K.placeholder(name=\"a\", shape=(None, 1))\n",
    "\n",
    "x = K.variable(np.array([10]).astype(np.float32))\n",
    "\n",
    "y_pred = K.square(a - x)\n",
    "y = 4"
   ]
  },
  {
   "cell_type": "code",
   "execution_count": 9,
   "metadata": {},
   "outputs": [],
   "source": [
    "loss = K.square(y_pred - y)"
   ]
  },
  {
   "cell_type": "code",
   "execution_count": 10,
   "metadata": {},
   "outputs": [
    {
     "name": "stdout",
     "output_type": "stream",
     "text": [
      "Tensor(\"Square_1:0\", shape=(?, 1), dtype=float32)\n"
     ]
    }
   ],
   "source": [
    "print(loss)"
   ]
  },
  {
   "cell_type": "code",
   "execution_count": 15,
   "metadata": {},
   "outputs": [],
   "source": [
    "from keras.optimizers import RMSprop\n",
    "\n",
    "opt = RMSprop(lr=0.1)\n",
    "updates = opt.get_updates(loss, [x])\n",
    "train = K.function([a], [loss], updates=updates)"
   ]
  },
  {
   "cell_type": "code",
   "execution_count": 16,
   "metadata": {},
   "outputs": [
    {
     "name": "stdout",
     "output_type": "stream",
     "text": [
      "[array([416.76752], dtype=float32)]\n",
      "[array([302.40625], dtype=float32)]\n",
      "[array([241.78023], dtype=float32)]\n",
      "[array([200.84355], dtype=float32)]\n",
      "[array([170.40121], dtype=float32)]\n",
      "[array([146.53453], dtype=float32)]\n",
      "[array([127.18612], dtype=float32)]\n",
      "[array([111.134224], dtype=float32)]\n",
      "[array([97.59175], dtype=float32)]\n",
      "[array([86.020294], dtype=float32)]\n",
      "[array([76.03511], dtype=float32)]\n",
      "[array([67.35123], dtype=float32)]\n",
      "[array([59.751774], dtype=float32)]\n",
      "[array([53.067722], dtype=float32)]\n",
      "[array([47.164604], dtype=float32)]\n",
      "[array([41.93384], dtype=float32)]\n",
      "[array([37.286392], dtype=float32)]\n",
      "[array([33.148285], dtype=float32)]\n",
      "[array([29.457485], dtype=float32)]\n",
      "[array([26.161407], dtype=float32)]\n",
      "[array([23.215052], dtype=float32)]\n",
      "[array([20.579685], dtype=float32)]\n",
      "[array([18.221699], dtype=float32)]\n",
      "[array([16.111729], dtype=float32)]\n",
      "[array([14.224037], dtype=float32)]\n",
      "[array([12.535877], dtype=float32)]\n",
      "[array([11.027091], dtype=float32)]\n",
      "[array([9.679751], dtype=float32)]\n",
      "[array([8.477848], dtype=float32)]\n",
      "[array([7.4070315], dtype=float32)]\n",
      "[array([6.454393], dtype=float32)]\n",
      "[array([5.6083093], dtype=float32)]\n",
      "[array([4.85828], dtype=float32)]\n",
      "[array([4.194792], dtype=float32)]\n",
      "[array([3.6092393], dtype=float32)]\n",
      "[array([3.0937834], dtype=float32)]\n",
      "[array([2.6413116], dtype=float32)]\n",
      "[array([2.2453504], dtype=float32)]\n",
      "[array([1.9000019], dtype=float32)]\n",
      "[array([1.5999013], dtype=float32)]\n",
      "[array([1.3401502], dtype=float32)]\n",
      "[array([1.1162919], dtype=float32)]\n",
      "[array([0.924268], dtype=float32)]\n",
      "[array([0.7603794], dtype=float32)]\n",
      "[array([0.6212696], dtype=float32)]\n",
      "[array([0.50389355], dtype=float32)]\n",
      "[array([0.40548912], dtype=float32)]\n",
      "[array([0.3235627], dtype=float32)]\n",
      "[array([0.25586572], dtype=float32)]\n",
      "[array([0.20038195], dtype=float32)]\n"
     ]
    }
   ],
   "source": [
    "for i in range(50):\n",
    "    loss_res = train([np.array([5])])\n",
    "    print(loss_res)"
   ]
  },
  {
   "cell_type": "code",
   "execution_count": 17,
   "metadata": {},
   "outputs": [
    {
     "data": {
      "text/plain": [
       "array([7.0962086], dtype=float32)"
      ]
     },
     "execution_count": 17,
     "metadata": {},
     "output_type": "execute_result"
    }
   ],
   "source": [
    "K.eval(x)"
   ]
  },
  {
   "cell_type": "code",
   "execution_count": null,
   "metadata": {},
   "outputs": [],
   "source": []
  }
 ],
 "metadata": {
  "kernelspec": {
   "display_name": "Python 3",
   "language": "python",
   "name": "python3"
  },
  "language_info": {
   "codemirror_mode": {
    "name": "ipython",
    "version": 3
   },
   "file_extension": ".py",
   "mimetype": "text/x-python",
   "name": "python",
   "nbconvert_exporter": "python",
   "pygments_lexer": "ipython3",
   "version": "3.6.5"
  }
 },
 "nbformat": 4,
 "nbformat_minor": 2
}
