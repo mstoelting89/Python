{
 "cells": [
  {
   "cell_type": "code",
   "execution_count": 19,
   "metadata": {},
   "outputs": [],
   "source": [
    "# Vorstellung: MNIST-Daten!\n",
    "# http://yann.lecun.com/exdb/mnist/\n",
    "# FashionMNIST: https://github.com/zalandoresearch/fashion-mnist\n",
    "\n",
    "import gzip\n",
    "import numpy as np\n",
    "from keras.utils import to_categorical\n",
    "\n",
    "def open_images(filename):\n",
    "    with gzip.open(filename, \"rb\") as file:\n",
    "        data = file.read()\n",
    "        return np.frombuffer(data, dtype=np.uint8, offset=16)\\\n",
    "            .reshape(-1, 28, 28)\\\n",
    "            .astype(np.float32)\n",
    "\n",
    "\n",
    "def open_labels(filename):\n",
    "    with gzip.open(filename, \"rb\") as file:\n",
    "        data = file.read()\n",
    "        return np.frombuffer(data, dtype=np.uint8, offset=8)\n",
    "    \n",
    "X_train = open_images(\"../data/fashion/train-images-idx3-ubyte.gz\")\n",
    "y_train = open_labels(\"../data/fashion/train-labels-idx1-ubyte.gz\")\n",
    "\n",
    "X_test = open_images(\"../data/fashion/t10k-images-idx3-ubyte.gz\")\n",
    "y_test = open_labels(\"../data/fashion/t10k-labels-idx1-ubyte.gz\")\n",
    "\n",
    "y_train = to_categorical(y_train)\n",
    "y_test = to_categorical(y_test)"
   ]
  },
  {
   "cell_type": "code",
   "execution_count": 20,
   "metadata": {},
   "outputs": [],
   "source": [
    "from keras.models import Sequential\n",
    "from keras.layers import Dense"
   ]
  },
  {
   "cell_type": "code",
   "execution_count": 21,
   "metadata": {},
   "outputs": [],
   "source": [
    "model = Sequential()\n",
    "\n",
    "model.add(Dense(100, activation=\"sigmoid\", input_shape=(784,)))\n",
    "model.add(Dense(10, activation=\"sigmoid\"))\n",
    "\n",
    "model.compile(optimizer=\"sgd\", loss=\"categorical_crossentropy\", metrics=[\"accuracy\"])"
   ]
  },
  {
   "cell_type": "code",
   "execution_count": 22,
   "metadata": {},
   "outputs": [
    {
     "data": {
      "text/plain": [
       "array([[0., 0., 0., ..., 0., 0., 0.],\n",
       "       [0., 0., 0., ..., 0., 0., 0.],\n",
       "       [0., 0., 0., ..., 0., 0., 0.],\n",
       "       ...,\n",
       "       [0., 0., 0., ..., 0., 0., 0.],\n",
       "       [0., 0., 0., ..., 0., 0., 0.],\n",
       "       [0., 0., 0., ..., 0., 0., 0.]], dtype=float32)"
      ]
     },
     "execution_count": 22,
     "metadata": {},
     "output_type": "execute_result"
    }
   ],
   "source": [
    "X_train.reshape(60000, 784)"
   ]
  },
  {
   "cell_type": "code",
   "execution_count": 23,
   "metadata": {},
   "outputs": [
    {
     "name": "stdout",
     "output_type": "stream",
     "text": [
      "Epoch 1/10\n",
      "60000/60000 [==============================] - 1s 12us/step - loss: 2.1409 - acc: 0.1052\n",
      "Epoch 2/10\n",
      "60000/60000 [==============================] - 1s 10us/step - loss: 1.9034 - acc: 0.1783\n",
      "Epoch 3/10\n",
      "60000/60000 [==============================] - ETA: 0s - loss: 1.7345 - acc: 0.492 - 1s 10us/step - loss: 1.7300 - acc: 0.4983\n",
      "Epoch 4/10\n",
      "60000/60000 [==============================] - 1s 10us/step - loss: 1.5442 - acc: 0.6454\n",
      "Epoch 5/10\n",
      "60000/60000 [==============================] - 1s 10us/step - loss: 1.3787 - acc: 0.6751\n",
      "Epoch 6/10\n",
      "60000/60000 [==============================] - 1s 13us/step - loss: 1.2482 - acc: 0.6926\n",
      "Epoch 7/10\n",
      "60000/60000 [==============================] - 1s 11us/step - loss: 1.1467 - acc: 0.7087\n",
      "Epoch 8/10\n",
      "60000/60000 [==============================] - 1s 10us/step - loss: 1.0642 - acc: 0.7216\n",
      "Epoch 9/10\n",
      "60000/60000 [==============================] - 1s 10us/step - loss: 0.9978 - acc: 0.7332\n",
      "Epoch 10/10\n",
      "60000/60000 [==============================] - 1s 9us/step - loss: 0.9437 - acc: 0.7458\n"
     ]
    },
    {
     "data": {
      "text/plain": [
       "<keras.callbacks.History at 0x1221a2c88>"
      ]
     },
     "execution_count": 23,
     "metadata": {},
     "output_type": "execute_result"
    }
   ],
   "source": [
    "model.fit(\n",
    "    X_train.reshape(60000, 784),\n",
    "    y_train,\n",
    "    epochs=10,\n",
    "    batch_size=1000)"
   ]
  },
  {
   "cell_type": "code",
   "execution_count": 24,
   "metadata": {},
   "outputs": [
    {
     "name": "stdout",
     "output_type": "stream",
     "text": [
      "10000/10000 [==============================] - 0s 27us/step\n"
     ]
    },
    {
     "data": {
      "text/plain": [
       "[0.9338323457717895, 0.7407]"
      ]
     },
     "execution_count": 24,
     "metadata": {},
     "output_type": "execute_result"
    }
   ],
   "source": [
    "model.evaluate(X_test.reshape(-1, 784), y_test)"
   ]
  },
  {
   "cell_type": "code",
   "execution_count": 25,
   "metadata": {},
   "outputs": [
    {
     "data": {
      "text/plain": [
       "array([[0.00443141, 0.02000424, 0.01260804, ..., 0.18442076, 0.0341461 ,\n",
       "        0.34385714],\n",
       "       [0.01524513, 0.01202092, 0.30292195, ..., 0.00962142, 0.02492416,\n",
       "        0.00482757],\n",
       "       [0.02991953, 0.5900383 , 0.01987584, ..., 0.02258446, 0.01545913,\n",
       "        0.01343062],\n",
       "       ...,\n",
       "       [0.05782587, 0.00656834, 0.01483497, ..., 0.01008106, 0.17311497,\n",
       "        0.00803729],\n",
       "       [0.01973794, 0.31142825, 0.00766465, ..., 0.0301556 , 0.01994032,\n",
       "        0.01708242],\n",
       "       [0.00241169, 0.019075  , 0.01266039, ..., 0.13416803, 0.03990846,\n",
       "        0.04821882]], dtype=float32)"
      ]
     },
     "execution_count": 25,
     "metadata": {},
     "output_type": "execute_result"
    }
   ],
   "source": [
    "model.predict(X_test.reshape(-1, 784))"
   ]
  },
  {
   "cell_type": "code",
   "execution_count": 26,
   "metadata": {},
   "outputs": [
    {
     "name": "stdout",
     "output_type": "stream",
     "text": [
      "[0. 0. 1. 0. 0. 0. 0. 0. 0. 0.]\n"
     ]
    },
    {
     "data": {
      "image/png": "[encoded data removed]",
      "text/plain": [
       "<Figure size 432x288 with 1 Axes>"
      ]
     },
     "metadata": {},
     "output_type": "display_data"
    }
   ],
   "source": [
    "%matplotlib inline\n",
    "\n",
    "import matplotlib.pyplot as plt\n",
    "\n",
    "print(y_test[1])\n",
    "\n",
    "plt.imshow(X_test[1], cmap=\"gray_r\")\n",
    "plt.show()"
   ]
  },
  {
   "cell_type": "code",
   "execution_count": 27,
   "metadata": {},
   "outputs": [],
   "source": [
    "pred = model.predict(X_test.reshape(-1, 784))"
   ]
  },
  {
   "cell_type": "code",
   "execution_count": 28,
   "metadata": {},
   "outputs": [
    {
     "data": {
      "text/plain": [
       "2"
      ]
     },
     "execution_count": 28,
     "metadata": {},
     "output_type": "execute_result"
    }
   ],
   "source": [
    "import numpy as np\n",
    "\n",
    "np.argmax(pred[1])"
   ]
  },
  {
   "cell_type": "code",
   "execution_count": 32,
   "metadata": {},
   "outputs": [
    {
     "data": {
      "text/plain": [
       "array([9, 2, 1, ..., 8, 1, 7])"
      ]
     },
     "execution_count": 32,
     "metadata": {},
     "output_type": "execute_result"
    }
   ],
   "source": [
    "np.argmax(pred, axis=1)"
   ]
  },
  {
   "cell_type": "code",
   "execution_count": 33,
   "metadata": {},
   "outputs": [
    {
     "name": "stdout",
     "output_type": "stream",
     "text": [
      "Requirement already satisfied: pandas_ml in /Users/jannisseemann/anaconda3/lib/python3.6/site-packages\n",
      "Requirement already satisfied: pandas>=0.17.0 in /Users/jannisseemann/anaconda3/lib/python3.6/site-packages (from pandas_ml)\n",
      "Requirement already satisfied: enum34 in /Users/jannisseemann/anaconda3/lib/python3.6/site-packages (from pandas_ml)\n",
      "Requirement already satisfied: python-dateutil>=2 in /Users/jannisseemann/anaconda3/lib/python3.6/site-packages (from pandas>=0.17.0->pandas_ml)\n",
      "Requirement already satisfied: pytz>=2011k in /Users/jannisseemann/anaconda3/lib/python3.6/site-packages (from pandas>=0.17.0->pandas_ml)\n",
      "Requirement already satisfied: numpy>=1.9.0 in /Users/jannisseemann/anaconda3/lib/python3.6/site-packages (from pandas>=0.17.0->pandas_ml)\n",
      "Requirement already satisfied: six>=1.5 in /Users/jannisseemann/anaconda3/lib/python3.6/site-packages (from python-dateutil>=2->pandas>=0.17.0->pandas_ml)\n",
      "\u001b[33mYou are using pip version 9.0.1, however version 10.0.1 is available.\n",
      "You should consider upgrading via the 'pip install --upgrade pip' command.\u001b[0m\n"
     ]
    }
   ],
   "source": [
    "!pip install pandas_ml"
   ]
  },
  {
   "cell_type": "code",
   "execution_count": 36,
   "metadata": {},
   "outputs": [
    {
     "data": {
      "text/plain": [
       "Predicted     0    1     2     3     4    5    6     7     8     9  __all__\n",
       "Actual                                                                     \n",
       "0           798    5    35    96    11    0   33     1    20     1     1000\n",
       "1            17  909    13    48     5    0    6     0     2     0     1000\n",
       "2            31    0   667     8   215    0   63     1    14     1     1000\n",
       "3            59    9    17   834    36    0   35     0     9     1     1000\n",
       "4             2    2   268    76   594    0   46     0    12     0     1000\n",
       "5             3    0     0     2     1  659    0   145    28   162     1000\n",
       "6           245    2   215    70   212    0  217     1    38     0     1000\n",
       "7             0    0     0     0     0   34    0   862     3   101     1000\n",
       "8             4    0    18    12     5    6   18     6   929     2     1000\n",
       "9             0    0     0     1     0    7    0    51     3   938     1000\n",
       "__all__    1159  927  1233  1147  1079  706  418  1067  1058  1206    10000"
      ]
     },
     "execution_count": 36,
     "metadata": {},
     "output_type": "execute_result"
    }
   ],
   "source": [
    "from pandas_ml import ConfusionMatrix\n",
    "\n",
    "ConfusionMatrix(np.argmax(y_test, axis=1), np.argmax(pred, axis=1))"
   ]
  },
  {
   "cell_type": "code",
   "execution_count": null,
   "metadata": {},
   "outputs": [],
   "source": []
  },
  {
   "cell_type": "code",
   "execution_count": null,
   "metadata": {},
   "outputs": [],
   "source": []
  }
 ],
 "metadata": {
  "kernelspec": {
   "display_name": "Python 3",
   "language": "python",
   "name": "python3"
  },
  "language_info": {
   "codemirror_mode": {
    "name": "ipython",
    "version": 3
   },
   "file_extension": ".py",
   "mimetype": "text/x-python",
   "name": "python",
   "nbconvert_exporter": "python",
   "pygments_lexer": "ipython3",
   "version": "3.6.5"
  }
 },
 "nbformat": 4,
 "nbformat_minor": 2
}
