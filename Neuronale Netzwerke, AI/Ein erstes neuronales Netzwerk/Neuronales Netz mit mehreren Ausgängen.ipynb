{
 "cells": [
  {
   "cell_type": "code",
   "execution_count": 2,
   "metadata": {},
   "outputs": [
    {
     "ename": "ImportError",
     "evalue": "Something is wrong with the numpy installation. While importing we detected an older version of numpy in ['C:\\\\anaconda3\\\\lib\\\\site-packages\\\\numpy']. One method of fixing this is to repeatedly uninstall numpy until none is found, then reinstall this version.",
     "output_type": "error",
     "traceback": [
      "\u001b[1;31m---------------------------------------------------------------------------\u001b[0m",
      "\u001b[1;31mImportError\u001b[0m                               Traceback (most recent call last)",
      "\u001b[1;32m<ipython-input-2-050fae7f2090>\u001b[0m in \u001b[0;36m<module>\u001b[1;34m\u001b[0m\n\u001b[0;32m      1\u001b[0m \u001b[1;32mimport\u001b[0m \u001b[0mgzip\u001b[0m\u001b[1;33m\u001b[0m\u001b[0m\n\u001b[1;32m----> 2\u001b[1;33m \u001b[1;32mimport\u001b[0m \u001b[0mnumpy\u001b[0m \u001b[1;32mas\u001b[0m \u001b[0mnp\u001b[0m\u001b[1;33m\u001b[0m\u001b[0m\n\u001b[0m\u001b[0;32m      3\u001b[0m \u001b[1;33m\u001b[0m\u001b[0m\n\u001b[0;32m      4\u001b[0m \u001b[1;31m#from keras.models import Sequential\u001b[0m\u001b[1;33m\u001b[0m\u001b[1;33m\u001b[0m\u001b[0m\n\u001b[0;32m      5\u001b[0m \u001b[1;31m#from keras.layers import Dense\u001b[0m\u001b[1;33m\u001b[0m\u001b[1;33m\u001b[0m\u001b[0m\n",
      "\u001b[1;32mC:\\anaconda3\\lib\\site-packages\\numpy\\__init__.py\u001b[0m in \u001b[0;36m<module>\u001b[1;34m\u001b[0m\n\u001b[0;32m    140\u001b[0m     \u001b[1;32mfrom\u001b[0m \u001b[1;33m.\u001b[0m \u001b[1;32mimport\u001b[0m \u001b[0m_distributor_init\u001b[0m\u001b[1;33m\u001b[0m\u001b[0m\n\u001b[0;32m    141\u001b[0m \u001b[1;33m\u001b[0m\u001b[0m\n\u001b[1;32m--> 142\u001b[1;33m     \u001b[1;32mfrom\u001b[0m \u001b[1;33m.\u001b[0m \u001b[1;32mimport\u001b[0m \u001b[0mcore\u001b[0m\u001b[1;33m\u001b[0m\u001b[0m\n\u001b[0m\u001b[0;32m    143\u001b[0m     \u001b[1;32mfrom\u001b[0m \u001b[1;33m.\u001b[0m\u001b[0mcore\u001b[0m \u001b[1;32mimport\u001b[0m \u001b[1;33m*\u001b[0m\u001b[1;33m\u001b[0m\u001b[0m\n\u001b[0;32m    144\u001b[0m     \u001b[1;32mfrom\u001b[0m \u001b[1;33m.\u001b[0m \u001b[1;32mimport\u001b[0m \u001b[0mcompat\u001b[0m\u001b[1;33m\u001b[0m\u001b[0m\n",
      "\u001b[1;32mC:\\anaconda3\\lib\\site-packages\\numpy\\core\\__init__.py\u001b[0m in \u001b[0;36m<module>\u001b[1;34m\u001b[0m\n\u001b[0;32m     72\u001b[0m         \u001b[1;34m\"numpy in {}. One method of fixing this is to repeatedly uninstall \"\u001b[0m\u001b[1;33m\u001b[0m\u001b[0m\n\u001b[0;32m     73\u001b[0m         \"numpy until none is found, then reinstall this version.\")\n\u001b[1;32m---> 74\u001b[1;33m     \u001b[1;32mraise\u001b[0m \u001b[0mImportError\u001b[0m\u001b[1;33m(\u001b[0m\u001b[0mmsg\u001b[0m\u001b[1;33m.\u001b[0m\u001b[0mformat\u001b[0m\u001b[1;33m(\u001b[0m\u001b[0mpath\u001b[0m\u001b[1;33m)\u001b[0m\u001b[1;33m)\u001b[0m\u001b[1;33m\u001b[0m\u001b[0m\n\u001b[0m\u001b[0;32m     75\u001b[0m \u001b[1;33m\u001b[0m\u001b[0m\n\u001b[0;32m     76\u001b[0m \u001b[1;32mfrom\u001b[0m \u001b[1;33m.\u001b[0m \u001b[1;32mimport\u001b[0m \u001b[0mnumerictypes\u001b[0m \u001b[1;32mas\u001b[0m \u001b[0mnt\u001b[0m\u001b[1;33m\u001b[0m\u001b[0m\n",
      "\u001b[1;31mImportError\u001b[0m: Something is wrong with the numpy installation. While importing we detected an older version of numpy in ['C:\\\\anaconda3\\\\lib\\\\site-packages\\\\numpy']. One method of fixing this is to repeatedly uninstall numpy until none is found, then reinstall this version."
     ]
    }
   ],
   "source": [
    "import gzip\n",
    "import numpy as np\n",
    "\n",
    "#from keras.models import Sequential\n",
    "#from keras.layers import Dense\n",
    "#from keras.utils import to_categorical"
   ]
  },
  {
   "cell_type": "code",
   "execution_count": 13,
   "metadata": {},
   "outputs": [],
   "source": [
    "#Funktion zum Laden der einzelnen Bilder\n",
    "def open_images(filename):\n",
    "    #öffnen der gzip-Datein\n",
    "    with gzip.open(filename, \"rb\") as file:\n",
    "        #Laden aller daten\n",
    "        data = file.read()\n",
    "        #Schreiben der Daten in ein Numpy Array und Rückgabe des Arrays\n",
    "        return np.frombuffer(data, dtype=np.uint8, offset=16)\\\n",
    "            .reshape(-1,28,28)\\\n",
    "            .astype(np.float32)\n",
    "    \n",
    "def open_labels(filename):\n",
    "    with gzip.open(filename,\"rb\") as file:\n",
    "        data = file.read()\n",
    "        return np.frombuffer(data,dtype=np.uint8,offset=8)\n",
    "\n",
    "#erstellen der Daten arrays\n",
    "X_train = open_images(\"../Kursmaterialien/data/fashion/train-images-idx3-ubyte.gz\")\n",
    "y_train = open_labels(\"../Kursmaterialien/data/fashion/train-labels-idx1-ubyte.gz\")\n",
    "\n",
    "X_test = open_images(\"../Kursmaterialien/data/fashion/t10k-images-idx3-ubyte.gz\")\n",
    "y_test = open_labels(\"../Kursmaterialien/data/fashion/t10k-labels-idx1-ubyte.gz\")\n",
    "\n",
    "y_train = to_categorical(y_train)\n",
    "y_test = to_categorical(y_test)"
   ]
  },
  {
   "cell_type": "code",
   "execution_count": 14,
   "metadata": {},
   "outputs": [],
   "source": [
    "model = Sequential()\n",
    "\n",
    "#Hinzufuegen eines Layers mit Dense\n",
    "#100 = Anzahl der Neuronen (frei gewaehlt)\n",
    "#784 = Anzahl der Pixel pro Bild\n",
    "model.add(Dense(100, activation=\"sigmoid\", input_shape=(784,))) # Hidden - Layer\n",
    "model.add(Dense(10,activation=\"sigmoid\")) # Output - Layer - Die 10 repräsentiert die Anzahl der Ausgänge\n",
    "\n",
    "#1. Parameter = Optimierung der Gewichtung über SGD (Stochastic Gradient Decent - Gradientenabstiegsverfahren)\n",
    "#2. Parameter = Standardwert\n",
    "model.compile(optimizer=\"sgd\", loss=\"categorical_crossentropy\", metrics=[\"accuracy\"])"
   ]
  },
  {
   "cell_type": "code",
   "execution_count": 15,
   "metadata": {},
   "outputs": [
    {
     "data": {
      "text/plain": [
       "array([[0., 0., 0., ..., 0., 0., 0.],\n",
       "       [0., 0., 0., ..., 0., 0., 0.],\n",
       "       [0., 0., 0., ..., 0., 0., 0.],\n",
       "       ...,\n",
       "       [0., 0., 0., ..., 0., 0., 0.],\n",
       "       [0., 0., 0., ..., 0., 0., 0.],\n",
       "       [0., 0., 0., ..., 0., 0., 0.]], dtype=float32)"
      ]
     },
     "execution_count": 15,
     "metadata": {},
     "output_type": "execute_result"
    }
   ],
   "source": [
    "X_train.reshape(60000,784)"
   ]
  },
  {
   "cell_type": "code",
   "execution_count": 16,
   "metadata": {},
   "outputs": [
    {
     "name": "stdout",
     "output_type": "stream",
     "text": [
      "Epoch 1/10\n",
      "60000/60000 [==============================] - 1s 11us/step - loss: 2.1418 - accuracy: 0.2142\n",
      "Epoch 2/10\n",
      "60000/60000 [==============================] - 1s 9us/step - loss: 1.9123 - accuracy: 0.4619: 0s - loss: 1.9938 \n",
      "Epoch 3/10\n",
      "60000/60000 [==============================] - 1s 9us/step - loss: 1.7150 - accuracy: 0.6047\n",
      "Epoch 4/10\n",
      "60000/60000 [==============================] - 1s 9us/step - loss: 1.5250 - accuracy: 0.6708\n",
      "Epoch 5/10\n",
      "60000/60000 [==============================] - 1s 9us/step - loss: 1.3644 - accuracy: 0.7054\n",
      "Epoch 6/10\n",
      "60000/60000 [==============================] - 1s 8us/step - loss: 1.2273 - accuracy: 0.7236\n",
      "Epoch 7/10\n",
      "60000/60000 [==============================] - 1s 9us/step - loss: 1.1250 - accuracy: 0.7372\n",
      "Epoch 8/10\n",
      "60000/60000 [==============================] - 1s 9us/step - loss: 1.0435 - accuracy: 0.7477\n",
      "Epoch 9/10\n",
      "60000/60000 [==============================] - 1s 8us/step - loss: 0.9752 - accuracy: 0.7571\n",
      "Epoch 10/10\n",
      "60000/60000 [==============================] - 0s 8us/step - loss: 0.9177 - accuracy: 0.7640\n"
     ]
    },
    {
     "data": {
      "text/plain": [
       "<keras.callbacks.callbacks.History at 0x1ed55930348>"
      ]
     },
     "execution_count": 16,
     "metadata": {},
     "output_type": "execute_result"
    }
   ],
   "source": [
    "model.fit(\n",
    "    X_train.reshape(60000,784),\n",
    "    y_train,\n",
    "    epochs=10, #Anzahl wie häufig die Epochen durchlaufen werden sollen\n",
    "    batch_size=1000 #Nach 1000 Bildern werden die Gewichte aktualisiert\n",
    ")"
   ]
  },
  {
   "cell_type": "code",
   "execution_count": 17,
   "metadata": {},
   "outputs": [
    {
     "name": "stdout",
     "output_type": "stream",
     "text": [
      "10000/10000 [==============================] - 0s 21us/step\n"
     ]
    },
    {
     "data": {
      "text/plain": [
       "[0.9061742719650269, 0.757099986076355]"
      ]
     },
     "execution_count": 17,
     "metadata": {},
     "output_type": "execute_result"
    }
   ],
   "source": [
    "# -1 bedeutet bei numpy, dass alle Daten aus dem Array genommen werden sollen\n",
    "model.evaluate(X_test.reshape(-1,784), y_test)"
   ]
  },
  {
   "cell_type": "code",
   "execution_count": 18,
   "metadata": {},
   "outputs": [
    {
     "data": {
      "text/plain": [
       "array([[0.01260734, 0.0107647 , 0.01380661, ..., 0.06862549, 0.0559147 ,\n",
       "        0.5542837 ],\n",
       "       [0.02119517, 0.01026951, 0.24367893, ..., 0.01289221, 0.00991752,\n",
       "        0.00609857],\n",
       "       [0.05982616, 0.6986617 , 0.0247108 , ..., 0.01057847, 0.01042228,\n",
       "        0.02579831],\n",
       "       ...,\n",
       "       [0.05483755, 0.00740292, 0.00823385, ..., 0.02633623, 0.21813323,\n",
       "        0.01208154],\n",
       "       [0.05669089, 0.50962037, 0.01545247, ..., 0.01636796, 0.01113941,\n",
       "        0.03199712],\n",
       "       [0.01036371, 0.0139068 , 0.01329704, ..., 0.1928434 , 0.07384874,\n",
       "        0.0518176 ]], dtype=float32)"
      ]
     },
     "execution_count": 18,
     "metadata": {},
     "output_type": "execute_result"
    }
   ],
   "source": [
    "#Vorher:\n",
    "# - ja / nein\n",
    "# 10%     90%\n",
    "\n",
    "model.predict(X_test.reshape(-1,784))"
   ]
  },
  {
   "cell_type": "code",
   "execution_count": 29,
   "metadata": {},
   "outputs": [
    {
     "name": "stdout",
     "output_type": "stream",
     "text": [
      "[0. 0. 1. 0. 0. 0. 0. 0. 0. 0.]\n"
     ]
    },
    {
     "data": {
      "image/png": "[encoded data removed]",
      "text/plain": [
       "<Figure size 432x288 with 1 Axes>"
      ]
     },
     "metadata": {
      "needs_background": "light"
     },
     "output_type": "display_data"
    }
   ],
   "source": [
    "%matplotlib inline\n",
    "\n",
    "import matplotlib.pyplot as plt\n",
    "\n",
    "print(y_test[1])\n",
    "\n",
    "plt.imshow(X_test[1],cmap=\"gray_r\")\n",
    "plt.show()"
   ]
  },
  {
   "cell_type": "code",
   "execution_count": 30,
   "metadata": {},
   "outputs": [],
   "source": [
    "pred = model.predict(X_test.reshape(-1,784))"
   ]
  },
  {
   "cell_type": "code",
   "execution_count": 31,
   "metadata": {},
   "outputs": [
    {
     "data": {
      "text/plain": [
       "array([0.02119517, 0.01026951, 0.24367893, 0.01465313, 0.10936671,\n",
       "       0.00785222, 0.06811959, 0.01289221, 0.00991752, 0.00609857],\n",
       "      dtype=float32)"
      ]
     },
     "execution_count": 31,
     "metadata": {},
     "output_type": "execute_result"
    }
   ],
   "source": [
    "pred[1]"
   ]
  },
  {
   "cell_type": "code",
   "execution_count": 32,
   "metadata": {},
   "outputs": [
    {
     "data": {
      "text/plain": [
       "2"
      ]
     },
     "execution_count": 32,
     "metadata": {},
     "output_type": "execute_result"
    }
   ],
   "source": [
    "np.argmax(pred[1])"
   ]
  },
  {
   "cell_type": "code",
   "execution_count": null,
   "metadata": {},
   "outputs": [],
   "source": []
  }
 ],
 "metadata": {
  "kernelspec": {
   "display_name": "Python 3",
   "language": "python",
   "name": "python3"
  },
  "language_info": {
   "codemirror_mode": {
    "name": "ipython",
    "version": 3
   },
   "file_extension": ".py",
   "mimetype": "text/x-python",
   "name": "python",
   "nbconvert_exporter": "python",
   "pygments_lexer": "ipython3",
   "version": "3.7.0"
  }
 },
 "nbformat": 4,
 "nbformat_minor": 2
}
