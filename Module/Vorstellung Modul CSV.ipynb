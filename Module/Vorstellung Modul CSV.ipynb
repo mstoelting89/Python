{
 "cells": [
  {
   "cell_type": "code",
   "execution_count": 1,
   "metadata": {},
   "outputs": [],
   "source": [
    "import csv"
   ]
  },
  {
   "cell_type": "code",
   "execution_count": 3,
   "metadata": {},
   "outputs": [
    {
     "name": "stdout",
     "output_type": "stream",
     "text": [
      "['Name', 'Telefonnummer', 'Land']\n",
      "['MÃ¼ller', '+49123456789', 'Deutschland']\n",
      "['Mustermann', '+3612345678', 'Ungarn']\n"
     ]
    }
   ],
   "source": [
    "with open(\"datei.csv\", newline='') as file:\n",
    "    csv_file = csv.reader(file, delimiter=',')\n",
    "    for line in csv_file:\n",
    "        print(line)"
   ]
  },
  {
   "cell_type": "code",
   "execution_count": 4,
   "metadata": {},
   "outputs": [
    {
     "name": "stdout",
     "output_type": "stream",
     "text": [
      "['MÃ¼ller', 'Hallo Welt', 'Hallo;Welt']\n",
      "['MÃ¼ller', 'Hallo Welt', 'Hallo-Welt']\n"
     ]
    }
   ],
   "source": [
    "with open(\"fromexcel.csv\", newline='') as file:\n",
    "    csv_file = csv.reader(file, delimiter=';', quotechar='\"')\n",
    "    for line in csv_file:\n",
    "        print(line)"
   ]
  },
  {
   "cell_type": "code",
   "execution_count": null,
   "metadata": {},
   "outputs": [],
   "source": []
  }
 ],
 "metadata": {
  "kernelspec": {
   "display_name": "Python 3",
   "language": "python",
   "name": "python3"
  },
  "language_info": {
   "codemirror_mode": {
    "name": "ipython",
    "version": 3
   },
   "file_extension": ".py",
   "mimetype": "text/x-python",
   "name": "python",
   "nbconvert_exporter": "python",
   "pygments_lexer": "ipython3",
   "version": "3.7.4"
  }
 },
 "nbformat": 4,
 "nbformat_minor": 4
}
