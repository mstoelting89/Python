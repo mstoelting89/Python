{
 "cells": [
  {
   "cell_type": "code",
   "execution_count": 2,
   "metadata": {},
   "outputs": [],
   "source": [
    "liste = [\"Hallo\", \"Welt\"]\n",
    "dictionary = {\"Hallo\": 5, \"Welt\":4}"
   ]
  },
  {
   "cell_type": "code",
   "execution_count": 5,
   "metadata": {},
   "outputs": [
    {
     "name": "stdout",
     "output_type": "stream",
     "text": [
      "{'Mars', 'Welt', 'Hallo'}\n"
     ]
    }
   ],
   "source": [
    "set = {\"Hallo\", \"Welt\"}\n",
    "set.add(\"Mars\")\n",
    "print(set)"
   ]
  },
  {
   "cell_type": "code",
   "execution_count": 7,
   "metadata": {},
   "outputs": [
    {
     "name": "stdout",
     "output_type": "stream",
     "text": [
      "{'Mars', 'Welt', 'Hallo'}\n"
     ]
    }
   ],
   "source": [
    "set.add(\"Mars\")\n",
    "print(set)"
   ]
  },
  {
   "cell_type": "code",
   "execution_count": 8,
   "metadata": {},
   "outputs": [
    {
     "name": "stdout",
     "output_type": "stream",
     "text": [
      "Ist enthalten\n"
     ]
    }
   ],
   "source": [
    "if \"Mars\" in set:\n",
    "        print(\"Ist enthalten\")"
   ]
  },
  {
   "cell_type": "code",
   "execution_count": 2,
   "metadata": {},
   "outputs": [
    {
     "name": "stdout",
     "output_type": "stream",
     "text": [
      "{'Hallo', 'Mars', 'Welt'}\n"
     ]
    }
   ],
   "source": [
    "text = \"Hallo Welt Hallo Mars Hallo Welt\"\n",
    "words = set()\n",
    "for word in text.split(\" \"):\n",
    "    words.add(word)\n",
    "print(words)"
   ]
  }
 ],
 "metadata": {
  "kernelspec": {
   "display_name": "Python 3",
   "language": "python",
   "name": "python3"
  },
  "language_info": {
   "codemirror_mode": {
    "name": "ipython",
    "version": 3
   },
   "file_extension": ".py",
   "mimetype": "text/x-python",
   "name": "python",
   "nbconvert_exporter": "python",
   "pygments_lexer": "ipython3",
   "version": "3.7.3"
  }
 },
 "nbformat": 4,
 "nbformat_minor": 4
}
