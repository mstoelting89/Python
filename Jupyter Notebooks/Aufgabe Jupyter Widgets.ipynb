{
 "cells": [
  {
   "cell_type": "code",
   "execution_count": 33,
   "metadata": {},
   "outputs": [],
   "source": [
    "import ipywidgets as widgets\n",
    "from IPython.display import display\n",
    "import csv\n",
    "import os"
   ]
  },
  {
   "cell_type": "code",
   "execution_count": 34,
   "metadata": {},
   "outputs": [
    {
     "data": {
      "application/vnd.jupyter.widget-view+json": {
       "model_id": "4fd8ddfe50224f418257feaa0b6ade50",
       "version_major": 2,
       "version_minor": 0
      },
      "text/plain": [
       "Text(value='', description='Vorname:')"
      ]
     },
     "metadata": {},
     "output_type": "display_data"
    },
    {
     "data": {
      "application/vnd.jupyter.widget-view+json": {
       "model_id": "b612ebe4ee00493dbcf3a13f8fc8a3bf",
       "version_major": 2,
       "version_minor": 0
      },
      "text/plain": [
       "Text(value='', description='Nachname:')"
      ]
     },
     "metadata": {},
     "output_type": "display_data"
    },
    {
     "data": {
      "application/vnd.jupyter.widget-view+json": {
       "model_id": "a57b194de1ae44b6815d485a19013acd",
       "version_major": 2,
       "version_minor": 0
      },
      "text/plain": [
       "Dropdown(description='Studienfach: ', options=('Mathe', 'Informatik', 'Philosophie', 'Kulturwissenschaften', '…"
      ]
     },
     "metadata": {},
     "output_type": "display_data"
    },
    {
     "data": {
      "application/vnd.jupyter.widget-view+json": {
       "model_id": "75f6608634d84ac5b5b8a152b4a9d97a",
       "version_major": 2,
       "version_minor": 0
      },
      "text/plain": [
       "Button(description='Eintragen', style=ButtonStyle())"
      ]
     },
     "metadata": {},
     "output_type": "display_data"
    },
    {
     "name": "stdout",
     "output_type": "stream",
     "text": [
      "Eintrag wurde gespeichert\n"
     ]
    }
   ],
   "source": [
    "vorname = widgets.Text(description=\"Vorname:\")\n",
    "nachname = widgets.Text(description=\"Nachname:\")\n",
    "studienfach = widgets.Dropdown(description=\"Studienfach: \",\n",
    "                              options=['Mathe','Informatik','Philosophie','Kulturwissenschaften','Psychologie'] \n",
    "                              )\n",
    "button = widgets.Button(description=\"Eintragen\")\n",
    "\n",
    "display(vorname)\n",
    "display(nachname)\n",
    "display(studienfach)\n",
    "display(button)\n",
    "\n",
    "dateien = os.listdir()\n",
    "\n",
    "if \"anwesenheitsliste.csv\" not in dateien:\n",
    "    \n",
    "    with open('anwesenheitsliste.csv', 'a', newline='') as file:\n",
    "        writer = csv.writer(file, delimiter=\";\")\n",
    "        writer.writerow([\"Vorname\",\"Nachname\",\"Studienfach\"])\n",
    "\n",
    "        \n",
    "def on_Button_click(p):\n",
    "    \n",
    "    if vorname.value == \"\" or nachname.value == \"\":\n",
    "        print(\"Bitte tragen Sie den kompletten Namen ein\")\n",
    "    else:\n",
    "        with open('anwesenheitsliste.csv', 'a', newline='') as file:\n",
    "            writer = csv.writer(file, delimiter=\";\")\n",
    "            writer.writerow([vorname.value,nachname.value,studienfach.value])\n",
    "\n",
    "        vorname.value = \"\"\n",
    "        nachname.value = \"\"\n",
    "    \n",
    "        print(\"Eintrag wurde gespeichert\")\n",
    "    \n",
    "button.on_click(on_Button_click)"
   ]
  },
  {
   "cell_type": "code",
   "execution_count": 27,
   "metadata": {},
   "outputs": [],
   "source": [
    "import os"
   ]
  },
  {
   "cell_type": "code",
   "execution_count": 32,
   "metadata": {},
   "outputs": [
    {
     "name": "stdout",
     "output_type": "stream",
     "text": [
      "['.ipynb_checkpoints', 'anwesenheitsliste.csv', 'Aufgabe Jupyter Widgets.ipynb', 'Jupyter Notebooks.ipynb', 'Jupyter Widgets.ipynb']\n",
      "Datei nicht vorhanden\n"
     ]
    }
   ],
   "source": [
    "print(os.listdir())\n",
    "\n",
    "dateien = os.listdir()\n",
    "\n",
    "if \"anwesenheitsliste\" in dateien:\n",
    "    print(\"Datei vorhanden\")\n",
    "else:\n",
    "    print(\"Datei nicht vorhanden\")"
   ]
  },
  {
   "cell_type": "code",
   "execution_count": 30,
   "metadata": {},
   "outputs": [
    {
     "ename": "NameError",
     "evalue": "name '__file__' is not defined",
     "output_type": "error",
     "traceback": [
      "\u001b[1;31m---------------------------------------------------------------------------\u001b[0m",
      "\u001b[1;31mNameError\u001b[0m                                 Traceback (most recent call last)",
      "\u001b[1;32m<ipython-input-30-c0ae23a43308>\u001b[0m in \u001b[0;36m<module>\u001b[1;34m\u001b[0m\n\u001b[1;32m----> 1\u001b[1;33m \u001b[0mprint\u001b[0m\u001b[1;33m(\u001b[0m\u001b[0m__file__\u001b[0m\u001b[1;33m)\u001b[0m\u001b[1;33m\u001b[0m\u001b[1;33m\u001b[0m\u001b[0m\n\u001b[0m",
      "\u001b[1;31mNameError\u001b[0m: name '__file__' is not defined"
     ]
    }
   ],
   "source": [
    "print(__file__)"
   ]
  },
  {
   "cell_type": "code",
   "execution_count": null,
   "metadata": {},
   "outputs": [],
   "source": []
  }
 ],
 "metadata": {
  "kernelspec": {
   "display_name": "Python 3",
   "language": "python",
   "name": "python3"
  },
  "language_info": {
   "codemirror_mode": {
    "name": "ipython",
    "version": 3
   },
   "file_extension": ".py",
   "mimetype": "text/x-python",
   "name": "python",
   "nbconvert_exporter": "python",
   "pygments_lexer": "ipython3",
   "version": "3.7.3"
  }
 },
 "nbformat": 4,
 "nbformat_minor": 2
}
