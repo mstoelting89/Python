{
 "cells": [
  {
   "cell_type": "code",
   "execution_count": 1,
   "metadata": {},
   "outputs": [
    {
     "name": "stdout",
     "output_type": "stream",
     "text": [
      "München\n",
      "MUC\n",
      "Budapest\n",
      "BUD\n",
      "Helsinki\n",
      "HEL\n"
     ]
    }
   ],
   "source": [
    "d = {\"München\": \"MUC\", \"Budapest\": \"BUD\", \"Helsinki\": \"HEL\"}\n",
    "\n",
    "for key in d:\n",
    "    value = d[key]\n",
    "    print(key)\n",
    "    print(value)\n",
    "    "
   ]
  },
  {
   "cell_type": "code",
   "execution_count": 2,
   "metadata": {},
   "outputs": [
    {
     "name": "stdout",
     "output_type": "stream",
     "text": [
      "dict_items([('München', 'MUC'), ('Budapest', 'BUD'), ('Helsinki', 'HEL')])\n"
     ]
    }
   ],
   "source": [
    "print(d.items())"
   ]
  },
  {
   "cell_type": "code",
   "execution_count": 3,
   "metadata": {},
   "outputs": [
    {
     "name": "stdout",
     "output_type": "stream",
     "text": [
      "München: MUC\n",
      "Budapest: BUD\n",
      "Helsinki: HEL\n"
     ]
    }
   ],
   "source": [
    "for key, value in d.items():\n",
    "    print(key + \": \" + value)"
   ]
  },
  {
   "cell_type": "code",
   "execution_count": null,
   "metadata": {},
   "outputs": [],
   "source": []
  }
 ],
 "metadata": {
  "kernelspec": {
   "display_name": "Python 3",
   "language": "python",
   "name": "python3"
  },
  "language_info": {
   "codemirror_mode": {
    "name": "ipython",
    "version": 3
   },
   "file_extension": ".py",
   "mimetype": "text/x-python",
   "name": "python",
   "nbconvert_exporter": "python",
   "pygments_lexer": "ipython3",
   "version": "3.7.3"
  }
 },
 "nbformat": 4,
 "nbformat_minor": 4
}
