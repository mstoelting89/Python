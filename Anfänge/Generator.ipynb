{
 "cells": [
  {
   "cell_type": "code",
   "execution_count": 7,
   "metadata": {},
   "outputs": [
    {
     "name": "stdout",
     "output_type": "stream",
     "text": [
      "liste: 0\n",
      "liste: 1\n",
      "liste: 2\n",
      "liste: 3\n",
      "liste: 4\n",
      "liste: 5\n",
      "liste: 6\n",
      "liste: 7\n",
      "liste: 8\n",
      "liste: 9\n",
      "[0, 1, 2, 3, 4, 5, 6, 7, 8, 9]\n",
      "0\n",
      "1\n",
      "2\n",
      "3\n",
      "4\n",
      "5\n",
      "6\n",
      "7\n",
      "8\n",
      "9\n"
     ]
    }
   ],
   "source": [
    "def gen_list():\n",
    "    liste = []\n",
    "    \n",
    "    for i in range(0,10):\n",
    "        liste.append(i)\n",
    "        print(\"liste: \" + str(i))\n",
    "    print(liste)\n",
    "    return liste\n",
    "\n",
    "for element in gen_list():\n",
    "    print(element)"
   ]
  },
  {
   "cell_type": "code",
   "execution_count": 6,
   "metadata": {},
   "outputs": [
    {
     "name": "stdout",
     "output_type": "stream",
     "text": [
      "gen: 0\n",
      "0\n",
      "gen: 1\n",
      "1\n",
      "gen: 2\n",
      "2\n",
      "gen: 3\n",
      "3\n",
      "gen: 4\n",
      "4\n",
      "gen: 5\n",
      "5\n",
      "gen: 6\n",
      "6\n",
      "gen: 7\n",
      "7\n",
      "gen: 8\n",
      "8\n",
      "gen: 9\n",
      "9\n"
     ]
    }
   ],
   "source": [
    "def gen_generator():\n",
    "    for i in range(0,10):\n",
    "        print(\"gen: \" +str(i))\n",
    "        yield i\n",
    "\n",
    "for element in gen_generator():\n",
    "    print(element)"
   ]
  },
  {
   "cell_type": "code",
   "execution_count": null,
   "metadata": {},
   "outputs": [],
   "source": []
  }
 ],
 "metadata": {
  "kernelspec": {
   "display_name": "Python 3",
   "language": "python",
   "name": "python3"
  },
  "language_info": {
   "codemirror_mode": {
    "name": "ipython",
    "version": 3
   },
   "file_extension": ".py",
   "mimetype": "text/x-python",
   "name": "python",
   "nbconvert_exporter": "python",
   "pygments_lexer": "ipython3",
   "version": "3.7.3"
  }
 },
 "nbformat": 4,
 "nbformat_minor": 4
}
