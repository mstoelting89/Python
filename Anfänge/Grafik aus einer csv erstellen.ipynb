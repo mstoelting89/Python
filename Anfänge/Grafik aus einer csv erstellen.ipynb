{
 "cells": [
  {
   "cell_type": "code",
   "execution_count": 8,
   "metadata": {},
   "outputs": [
    {
     "name": "stdout",
     "output_type": "stream",
     "text": [
      "[1910, 1911, 1912, 1913, 1914, 1915, 1916, 1917, 1918, 1919, 1920, 1921, 1922, 1923, 1924, 1925, 1926, 1927, 1928, 1929, 1930, 1931, 1932, 1933, 1934, 1935, 1936, 1937, 1938, 1939, 1940, 1941, 1942, 1943, 1944, 1945, 1946, 1947, 1948, 1949, 1950, 1951, 1952, 1953, 1954, 1955, 1956, 1957, 1958, 1959, 1960, 1961, 1962, 1963, 1964, 1965, 1966, 1967, 1968, 1969, 1970, 1971, 1972, 1973, 1974, 1975, 1976, 1977, 1978, 1979, 1980, 1981, 1982, 1983, 1984, 1985, 1986, 1987, 1988, 1989, 1990, 1991, 1992, 1993, 1994, 1995, 1996, 1997, 1998, 1999, 2000, 2001, 2002, 2003, 2004, 2005, 2006, 2007, 2008, 2009, 2010, 2011, 2012, 2013, 2014]\n",
      "[51, 57, 76, 86, 95, 125, 139, 141, 137, 134, 170, 169, 155, 170, 167, 186, 158, 172, 164, 161, 138, 115, 128, 129, 137, 114, 106, 135, 107, 128, 99, 144, 140, 157, 134, 163, 189, 209, 234, 237, 251, 284, 280, 341, 384, 408, 465, 514, 500, 594, 608, 535, 596, 558, 612, 564, 585, 579, 496, 535, 570, 540, 537, 470, 487, 478, 494, 497, 556, 525, 569, 654, 593, 596, 576, 603, 628, 643, 714, 755, 758, 684, 649, 619, 683, 668, 638, 631, 521, 551, 694, 699, 653, 576, 586, 527, 444, 491, 418, 397, 357, 355, 365, 375, 462]\n"
     ]
    }
   ],
   "source": [
    "xs = []\n",
    "ys = []\n",
    "\n",
    "name = \"Anna\"\n",
    "gender = \"F\"\n",
    "state = \"CA\"\n",
    "\n",
    "with open(\"Kursmaterialien/data/names.csv\") as file:\n",
    "    counter = 0\n",
    "    for line in file:\n",
    "       \n",
    "        \n",
    "        line_splitted = line.strip().split(\",\")\n",
    "        \n",
    "        if line_splitted[1] == name and line_splitted[3] == gender and line_splitted[4] == state:\n",
    "            \n",
    "            xs.append(int(line_splitted[2]))\n",
    "            ys.append(int(line_splitted[5]))\n",
    "\n",
    "  \n",
    "print(xs)\n",
    "print(ys)\n"
   ]
  },
  {
   "cell_type": "code",
   "execution_count": 9,
   "metadata": {},
   "outputs": [],
   "source": [
    "%matplotlib inline\n",
    "import matplotlib.pyplot as plt"
   ]
  },
  {
   "cell_type": "code",
   "execution_count": 10,
   "metadata": {},
   "outputs": [
    {
     "data": {
      "image/png": "[encoded data removed]",
      "text/plain": [
       "<Figure size 432x288 with 1 Axes>"
      ]
     },
     "metadata": {
      "needs_background": "light"
     },
     "output_type": "display_data"
    }
   ],
   "source": [
    "plt.plot(xs,ys)\n",
    "plt.show()"
   ]
  },
  {
   "cell_type": "code",
   "execution_count": 16,
   "metadata": {},
   "outputs": [
    {
     "name": "stdout",
     "output_type": "stream",
     "text": [
      "6385\n"
     ]
    }
   ],
   "source": [
    "xs = []\n",
    "ys = []\n",
    "\n",
    "name = \"Max\"\n",
    "gender = \"M\"\n",
    "state = \"CA\"\n",
    "anzahlName = 0\n",
    "\n",
    "with open(\"Kursmaterialien/data/names.csv\") as file:\n",
    "    counter = 0\n",
    "    for line in file:\n",
    "       \n",
    "        \n",
    "        line_splitted = line.strip().split(\",\")\n",
    "        \n",
    "        if line_splitted[1] == name and line_splitted[3] == gender and line_splitted[4] == state and int(line_splitted[2]) >= 1950 and int(line_splitted[2]) <= 2000:\n",
    "\n",
    "            anzahlName = anzahlName + int(line_splitted[5])\n",
    "        \n",
    "print(anzahlName)\n",
    "  "
   ]
  },
  {
   "cell_type": "code",
   "execution_count": null,
   "metadata": {},
   "outputs": [],
   "source": []
  }
 ],
 "metadata": {
  "kernelspec": {
   "display_name": "Python 3",
   "language": "python",
   "name": "python3"
  },
  "language_info": {
   "codemirror_mode": {
    "name": "ipython",
    "version": 3
   },
   "file_extension": ".py",
   "mimetype": "text/x-python",
   "name": "python",
   "nbconvert_exporter": "python",
   "pygments_lexer": "ipython3",
   "version": "3.7.3"
  }
 },
 "nbformat": 4,
 "nbformat_minor": 4
}
