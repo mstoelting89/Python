{
 "cells": [
  {
   "cell_type": "code",
   "execution_count": 3,
   "metadata": {},
   "outputs": [
    {
     "name": "stdout",
     "output_type": "stream",
     "text": [
      "Id,Name,Year,Gender,State,Count\n",
      "1,Mary,1910,F,AK,14\n",
      "2,Annie,1910,F,AK,12\n",
      "3,Anna,1910,F,AK,10\n",
      "4,Margaret,1910,F,AK,8\n",
      "5,Helen,1910,F,AK,7\n",
      "6,Elsie,1910,F,AK,6\n",
      "7,Lucy,1910,F,AK,6\n",
      "8,Dorothy,1910,F,AK,5\n",
      "9,Mary,1911,F,AK,12\n"
     ]
    }
   ],
   "source": [
    "with open (\"Kursmaterialien/data/names.csv\") as file:\n",
    "    counter = 0\n",
    "    for line in file:\n",
    "        print(line.strip())\n",
    "        counter = counter + 1\n",
    "        \n",
    "        if counter >= 10:\n",
    "            break\n"
   ]
  },
  {
   "cell_type": "code",
   "execution_count": 12,
   "metadata": {},
   "outputs": [
    {
     "name": "stdout",
     "output_type": "stream",
     "text": [
      "4957166\n",
      "James\n"
     ]
    }
   ],
   "source": [
    "with open (\"Kursmaterialien/data/names.csv\") as file:\n",
    "    counter = 0\n",
    "    d = {}\n",
    "    for line in file:\n",
    "        splittedLines = line.strip().split(\",\")\n",
    "        if splittedLines[1] != \"Name\":\n",
    "            if splittedLines[1] in d:\n",
    "                d[splittedLines[1]] = int(d[splittedLines[1]]) + int(splittedLines[5])\n",
    "            else:\n",
    "                d[splittedLines[1]] = splittedLines[5]\n",
    "\n",
    "     #       counter = counter + 1\n",
    "     #       if counter >= 10:\n",
    "     #           break\n",
    "\n",
    "max_occurences = 0\n",
    "name = \"\"\n",
    "\n",
    "for key, value in d.items():\n",
    "    if int(max_occurences) < int(value):\n",
    "        max_occurences = value\n",
    "        name = key\n",
    "\n",
    "print(max_occurences)\n",
    "print(name)"
   ]
  },
  {
   "cell_type": "code",
   "execution_count": null,
   "metadata": {},
   "outputs": [],
   "source": []
  }
 ],
 "metadata": {
  "kernelspec": {
   "display_name": "Python 3",
   "language": "python",
   "name": "python3"
  },
  "language_info": {
   "codemirror_mode": {
    "name": "ipython",
    "version": 3
   },
   "file_extension": ".py",
   "mimetype": "text/x-python",
   "name": "python",
   "nbconvert_exporter": "python",
   "pygments_lexer": "ipython3",
   "version": "3.7.3"
  }
 },
 "nbformat": 4,
 "nbformat_minor": 4
}
