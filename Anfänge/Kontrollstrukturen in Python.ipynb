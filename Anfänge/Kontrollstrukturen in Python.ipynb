{
 "cells": [
  {
   "cell_type": "code",
   "execution_count": 2,
   "metadata": {},
   "outputs": [
    {
     "name": "stdout",
     "output_type": "stream",
     "text": [
      "Die Zahl ist kleiner als 42\n",
      "Ich bin nicht mehr eingerückt\n"
     ]
    }
   ],
   "source": [
    "n = 13\n",
    "\n",
    "if n < 42:\n",
    "    print(\"Die Zahl ist kleiner als 42\")\n",
    "\n",
    "print(\"Ich bin nicht mehr eingerückt\")"
   ]
  },
  {
   "cell_type": "code",
   "execution_count": 3,
   "metadata": {},
   "outputs": [
    {
     "name": "stdout",
     "output_type": "stream",
     "text": [
      "ist nicht der Fall\n"
     ]
    }
   ],
   "source": [
    "m = 10\n",
    "\n",
    "if m < 5:\n",
    "    print(\"m ist kleiner als 5\")\n",
    "else: \n",
    "    print(\"ist nicht der Fall\")"
   ]
  },
  {
   "cell_type": "code",
   "execution_count": null,
   "metadata": {},
   "outputs": [],
   "source": []
  }
 ],
 "metadata": {
  "kernelspec": {
   "display_name": "Python 3",
   "language": "python",
   "name": "python3"
  },
  "language_info": {
   "codemirror_mode": {
    "name": "ipython",
    "version": 3
   },
   "file_extension": ".py",
   "mimetype": "text/x-python",
   "name": "python",
   "nbconvert_exporter": "python",
   "pygments_lexer": "ipython3",
   "version": "3.7.3"
  }
 },
 "nbformat": 4,
 "nbformat_minor": 2
}
