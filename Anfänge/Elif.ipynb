{
 "cells": [
  {
   "cell_type": "code",
   "execution_count": 1,
   "metadata": {},
   "outputs": [
    {
     "name": "stdout",
     "output_type": "stream",
     "text": [
      "Euro\n"
     ]
    }
   ],
   "source": [
    "currency = \"€\"\n",
    "\n",
    "if currency == \"$\":\n",
    "    print(\"US-Dollar\")\n",
    "else:\n",
    "    if currency == \"€\":\n",
    "        print(\"Euro\")\n",
    "    else:\n",
    "        print(\"Was auch immer\")"
   ]
  },
  {
   "cell_type": "code",
   "execution_count": 3,
   "metadata": {},
   "outputs": [
    {
     "name": "stdout",
     "output_type": "stream",
     "text": [
      "Euro\n"
     ]
    }
   ],
   "source": [
    "currency = \"€\"\n",
    "\n",
    "if currency == \"$\":\n",
    "    print(\"US-Dollar\")\n",
    "elif currency == \"€\":\n",
    "    print(\"Euro\")\n",
    "else:\n",
    "    print(\"Was auch immer\")"
   ]
  },
  {
   "cell_type": "code",
   "execution_count": null,
   "metadata": {},
   "outputs": [],
   "source": []
  }
 ],
 "metadata": {
  "kernelspec": {
   "display_name": "Python 3",
   "language": "python",
   "name": "python3"
  },
  "language_info": {
   "codemirror_mode": {
    "name": "ipython",
    "version": 3
   },
   "file_extension": ".py",
   "mimetype": "text/x-python",
   "name": "python",
   "nbconvert_exporter": "python",
   "pygments_lexer": "ipython3",
   "version": "3.7.3"
  }
 },
 "nbformat": 4,
 "nbformat_minor": 2
}
